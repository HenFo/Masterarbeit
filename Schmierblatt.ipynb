{
 "cells": [
  {
   "cell_type": "code",
   "execution_count": 2,
   "metadata": {},
   "outputs": [],
   "source": [
    "import torch\n",
    "import torch.nn.functional as F"
   ]
  },
  {
   "cell_type": "code",
   "execution_count": null,
   "metadata": {},
   "outputs": [],
   "source": [
    "bs = 3\n",
    "a = torch.zeros(bs,10, dtype=torch.int64)\n",
    "# a = torch.arange(10*bs, dtype=torch.int64).view(bs,10)\n",
    "pos_start = torch.randint(0,5,(bs,1))\n",
    "pos_end = torch.randint(6,10,(bs,1))\n",
    "a = a.scatter(1, pos_start, -1)\n",
    "a = a.scatter(1, pos_end, -2)\n",
    "a[1,:] = 0\n",
    "a[1,-1] = -2\n",
    "a[1,-2] = -1\n",
    "a"
   ]
  },
  {
   "cell_type": "code",
   "execution_count": 4,
   "metadata": {},
   "outputs": [],
   "source": [
    "# exclude = (a == -1) | (a == -2)\n",
    "# b = torch.randn(bs,10,5)\n",
    "# bs, ts, fs = b.shape\n",
    "# b[~exclude].view(bs, ts-2, fs)"
   ]
  },
  {
   "cell_type": "code",
   "execution_count": null,
   "metadata": {},
   "outputs": [],
   "source": [
    "start_tokens = torch.where(a == -1)[1]\n",
    "end_tokens = torch.where(a == -2)[1]\n",
    "# start_tokens, end_tokens\n",
    "vector_length = end_tokens - start_tokens -1\n",
    "vector_length"
   ]
  },
  {
   "cell_type": "code",
   "execution_count": null,
   "metadata": {},
   "outputs": [],
   "source": [
    "def aggregate_temporal_features(vectors, num_vectors):\n",
    "    assert len(vectors.size()) == 3\n",
    "    interpolated_vectors = torch.nn.functional.interpolate(\n",
    "        torch.swapaxes(vectors, 1, 2),\n",
    "        size=num_vectors,\n",
    "        mode=\"linear\",\n",
    "        align_corners=True,\n",
    "    )\n",
    "    interpolated_vectors = torch.swapaxes(interpolated_vectors, 1, 2)\n",
    "    assert interpolated_vectors.size()[1] == num_vectors\n",
    "    return interpolated_vectors\n",
    "\n",
    "vectors = torch.rand(bs, 3, 5)\n",
    "embeds = torch.ones(bs, 10, 5)\n",
    "\n",
    "# aggregate_temporal_features(embeds, 2).shape\n",
    "\n",
    "aggregated = []\n",
    "for i, l in enumerate(vector_length):\n",
    "    print(l)\n",
    "    if l == 0:\n",
    "        aggregated.append(torch.zeros(embeds.size(1), embeds.size(2)))\n",
    "        continue\n",
    "    agg = aggregate_temporal_features(vectors[None,i], l)\n",
    "    agg = F.pad(agg, (0, 0, start_tokens[i]+1, embeds.size(1)-start_tokens[i]-l-1), \"constant\", 0)\n",
    "    aggregated.append(agg[0])\n",
    "\n",
    "aggregated = torch.stack(aggregated)\n",
    "print(aggregated[1])\n"
   ]
  },
  {
   "cell_type": "code",
   "execution_count": null,
   "metadata": {},
   "outputs": [],
   "source": [
    "embeds + aggregated"
   ]
  },
  {
   "cell_type": "code",
   "execution_count": null,
   "metadata": {},
   "outputs": [],
   "source": [
    "aggregated.shape"
   ]
  },
  {
   "cell_type": "code",
   "execution_count": null,
   "metadata": {},
   "outputs": [],
   "source": [
    "import torch\n",
    "\n",
    "torch.random.manual_seed(0)\n",
    "a = torch.normal(1, 1, (3, 10, 5))\n",
    "b = aggregated\n",
    "\n",
    "torch.norm(a, dim=2, keepdim=True).shape\n",
    "\n",
    "c = a + b\n",
    "c = (c / (torch.norm(c, dim=2, keepdim=True) + 1e-6)) * torch.norm(a, dim=2, keepdim=True)\n",
    "\n",
    "print(torch.norm(a))\n",
    "print(torch.norm(c))\n",
    "a[0], c[0], b[0]"
   ]
  },
  {
   "cell_type": "code",
   "execution_count": null,
   "metadata": {},
   "outputs": [],
   "source": [
    "import torch\n",
    "import torch.nn as nn\n",
    "from peft import LoraConfig, get_peft_model\n",
    "\n",
    "\n",
    "class SimpleNet(nn.Module):\n",
    "\tdef __init__(self):\n",
    "\t\tsuper(SimpleNet, self).__init__()\n",
    "\t\tself.fc1 = nn.Linear(10, 5)\n",
    "\t\tself.fc2 = nn.Linear(5, 2)\n",
    "\t\n",
    "\tdef forward(self, x):\n",
    "\t\tx = torch.relu(self.fc1(x))\n",
    "\t\tx = self.fc2(x)\n",
    "\t\treturn x\n",
    "\t\n",
    "\t# def state_dict(self, include_fc1=True, include_fc2=True, **kwargs):\n",
    "\t# \t# Get the original state_dict\n",
    "\t# \toriginal_state_dict = super(SimpleNet, self).state_dict(**kwargs)\n",
    "\t\t\n",
    "\t# \t# Filter the state_dict based on custom parameters\n",
    "\t# \tfiltered_state_dict = {}\n",
    "\t# \tif include_fc1:\n",
    "\t# \t\tfiltered_state_dict.update({k: v for k, v in original_state_dict.items() if 'fc1' in k})\n",
    "\t# \tif include_fc2:\n",
    "\t# \t\tfiltered_state_dict.update({k: v for k, v in original_state_dict.items() if 'fc2' in k})\n",
    "\t\t\n",
    "\t# \t# Add custom information\n",
    "\t# \tcustom_info = {'custom_info': 'This is a custom state dict'}\n",
    "\t\t\n",
    "\t# \t# Combine the filtered state_dict with custom information\n",
    "\t# \tcombined_state_dict = {**filtered_state_dict, **custom_info}\n",
    "\t\t\n",
    "\t# \treturn combined_state_dict\n",
    "\n",
    "# Function to apply LoRA adapter\n",
    "def apply_lora_adapter(model):\n",
    "\tlora_config = LoraConfig(\n",
    "\t\tr=4,  # Rank of the low-rank approximation\n",
    "\t\tlora_alpha=32,  # Scaling factor\n",
    "\t\tlora_dropout=0.1,  # Dropout rate\n",
    "\t\ttarget_modules=['fc1', 'fc2']  # Target modules to apply LoRA\n",
    "\t)\n",
    "\tlora_model = get_peft_model(model, lora_config)\n",
    "\t\n",
    "\t# Override the state_dict method to forward additional parameters\n",
    "\t# def lora_state_dict(self, include_fc1=True, include_fc2=True, **kwargs):\n",
    "\t# \treturn self.model.state_dict(include_fc1=include_fc1, include_fc2=include_fc2, **kwargs)\n",
    "\t\n",
    "\t# lora_model.state_dict = lora_state_dict.__get__(lora_model, type(lora_model))\n",
    "\t\n",
    "\treturn lora_model\n",
    "\n",
    "# Example usage\n",
    "model = SimpleNet()\n",
    "# model_with_lora = apply_lora_adapter(model)\n",
    "sd = model.state_dict()\n",
    "sd[\"fc1.weight\"]"
   ]
  },
  {
   "cell_type": "code",
   "execution_count": null,
   "metadata": {},
   "outputs": [],
   "source": [
    "x = torch.load(\"/home/fock/code/MultiModalInstructERC/experiments/multimodal/mlp/merge/interpolate/iemocap/LLaMA2-base/audio_upscale_10/stage_2/best_model.pth\")\n",
    "x"
   ]
  },
  {
   "cell_type": "code",
   "execution_count": null,
   "metadata": {},
   "outputs": [],
   "source": [
    "import torch\n",
    "torch.random.manual_seed(0)\n",
    "a = torch.randn(3,4, requires_grad=True)\n",
    "b = torch.randn(3,4, requires_grad=True)\n",
    "s = torch.nn.Parameter(torch.tensor([1.0], requires_grad=True))\n",
    "# s = torch.tensor(1.0, requires_grad=True)\n",
    "\n",
    "x = a + b * s\n",
    "x = (x / x.norm(dim=1, keepdim=True)) * a.norm(dim=1, keepdim=True)\n",
    "\n",
    "x.sum().backward()\n",
    "\n",
    "print(a.grad) \n",
    "print(b.grad)\n",
    "print(s.grad)\n"
   ]
  },
  {
   "cell_type": "code",
   "execution_count": 7,
   "metadata": {},
   "outputs": [],
   "source": [
    "import torch\n",
    "import torch.nn as nn\n",
    "from torch.optim import AdamW\n",
    "\n",
    "class Model(nn.Module):\n",
    "    def __init__(self):\n",
    "        super().__init__()\n",
    "        self.fc1 = nn.Linear(2, 2)\n",
    "        self.fc2 = nn.Linear(2, 1)\n",
    "        self.scale = nn.Parameter(torch.tensor(2.0))\n",
    "\n",
    "        # self.scale.register_post_accumulate_grad_hook(lambda p: print(p))\n",
    "    \n",
    "    def forward(self, x):\n",
    "        x1, x2 = x\n",
    "        scaled_x2 = x2 * self.scale\n",
    "        added = x1 + scaled_x2\n",
    "        out = (added / added.norm(dim=1, keepdim=True)) * x1.norm(dim=1, keepdim=True)\n",
    "        out = self.fc1(out)\n",
    "        out = torch.sigmoid(out)\n",
    "        out = self.fc2(out)\n",
    "        out = torch.sigmoid(out)\n",
    "        return out\n"
   ]
  },
  {
   "cell_type": "code",
   "execution_count": null,
   "metadata": {},
   "outputs": [],
   "source": [
    "import torch\n",
    "torch.random.manual_seed(0)\n",
    "\n",
    "# X1 = torch.randn(4, 2)\n",
    "x = torch.tensor([[-1.0, -1.0], [-1.0, 1.0], [1.0, -1.0], [1.0, 1.0]])\n",
    "y = torch.tensor([[0.0], [1.0], [1.0], [0.0]])\n",
    "\n",
    "model = Model()\n",
    "# a = model((X1, X2))\n",
    "# print(X1.norm(dim=1, keepdim=True))\n",
    "# print(a.norm(dim=1, keepdim=True))\n",
    "\n",
    "# print(X1)\n",
    "# print(a)\n",
    "\n",
    "\n",
    "optimizer = AdamW(model.parameters(), lr=0.1)\n",
    "loss_fn = nn.MSELoss()\n",
    "\n",
    "for i in range(1000):\n",
    "    noise = torch.normal(0, 1, (4,2))\n",
    "    y_pred = model((x, noise))\n",
    "    nllloss = loss_fn(y_pred, y)\n",
    "    if i % 1000 == 0:\n",
    "        print(nllloss.item())\n",
    "    optimizer.zero_grad()\n",
    "    nllloss.backward()\n",
    "    optimizer.step()\n",
    "\n",
    "model((x, torch.normal(0, 0.2, (4,2))))"
   ]
  },
  {
   "cell_type": "code",
   "execution_count": null,
   "metadata": {},
   "outputs": [],
   "source": [
    "for n, p in model.named_parameters():\n",
    "    print(n, p)"
   ]
  },
  {
   "cell_type": "code",
   "execution_count": null,
   "metadata": {},
   "outputs": [],
   "source": [
    "# with torch.no_grad():\n",
    "a = model((x, torch.normal(0, 0.2, (4,2))))\n",
    "nllloss = loss_fn(a, y)\n",
    "nllloss.backward()\n",
    "print(model.scale.grad)"
   ]
  },
  {
   "cell_type": "code",
   "execution_count": null,
   "metadata": {},
   "outputs": [],
   "source": [
    "from transformers import LlamaForCausalLM, LlamaTokenizer\n",
    "\n",
    "llama = LlamaForCausalLM.from_pretrained(\"/home/fock/code/MultiModalInstructERC/models/language/LLaMA2-base\")\n",
    "tokenizer = LlamaTokenizer.from_pretrained(\"/home/fock/code/MultiModalInstructERC/models/language/LLaMA2-base\")"
   ]
  },
  {
   "cell_type": "code",
   "execution_count": null,
   "metadata": {},
   "outputs": [],
   "source": [
    "tokenizer.pad_token_id = tokenizer.bos_token_id\n",
    "tokenizer.padding_side = \"left\"\n",
    "\n",
    "inputs = tokenizer([\"hello\", \"second hello\"], return_tensors=\"pt\", padding=True)\n",
    "# print(inputs)\n",
    "a = llama(**inputs, output_hidden_states=True)\n",
    "# b = torch.rand_like(a.logits)\n",
    "# # torch.cat([a.logits, b], dim=-1).shape\n",
    "# print(torch.argmax(a.logits, dim=-1))\n",
    "# print(torch.argmax(torch.softmax(a.logits, dim=-1), dim=-1))\n",
    "print(a.hidden_states[0].shape)"
   ]
  },
  {
   "cell_type": "code",
   "execution_count": null,
   "metadata": {},
   "outputs": [],
   "source": [
    "import torch.nn as nn\n",
    "nllloss = nn.CrossEntropyLoss()\n",
    "input = torch.randn(3, 5, requires_grad=True)\n",
    "target = torch.empty(3, dtype=torch.long).random_(5)\n",
    "input, target"
   ]
  },
  {
   "cell_type": "code",
   "execution_count": null,
   "metadata": {},
   "outputs": [],
   "source": [
    "import math\n",
    "from torch.optim.lr_scheduler import LambdaLR\n",
    "from torch.optim import AdamW\n",
    "from accelerate import Accelerator\n",
    "\n",
    "acc = Accelerator(gradient_accumulation_steps=100)\n",
    "\n",
    "\n",
    "def get_scheduler(\n",
    "    optimizer,\n",
    "    len_dataset,\n",
    "    batch_size,\n",
    "    gradient_accumulation_steps,\n",
    "    epochs,\n",
    "    min_lr_frac=0.5,\n",
    "):\n",
    "    num_steps = math.ceil(len_dataset / batch_size)\n",
    "    num_steps *= epochs\n",
    "    warmup_steps = math.ceil(num_steps * 0.1)\n",
    "\n",
    "    def cosine_decay_with_warmup(step):\n",
    "        if step < warmup_steps:\n",
    "            return float(step) / max(1.0, warmup_steps)\n",
    "\n",
    "        progress = float(step - warmup_steps) / max(1, num_steps - warmup_steps)\n",
    "        cos_progress = 0.5 * (1 + math.cos(math.pi * progress))\n",
    "        return cos_progress + (1 - cos_progress) * min_lr_frac\n",
    "\n",
    "    scheduler = LambdaLR(optimizer, lr_lambda=cosine_decay_with_warmup)\n",
    "\n",
    "    return scheduler\n",
    "\n",
    "model = Model()\n",
    "optimizer = AdamW(model.parameters(), lr=1)\n",
    "lr_scheduler = get_scheduler(\n",
    "    optimizer,\n",
    "    10000,\n",
    "    10,\n",
    "    1,\n",
    "    10,\n",
    "    min_lr_frac=0.5,\n",
    ")\n",
    "\n",
    "\n",
    "lrs = []\n",
    "for epoch in range(10):\n",
    "    for batch in range(10000 // 10):\n",
    "        with acc.accumulate(model):\n",
    "            lr_scheduler.step()\n",
    "            lrs.extend(lr_scheduler.get_last_lr())\n",
    "\n",
    "import matplotlib.pyplot as plt\n",
    "plt.plot(lrs)\n",
    "plt.show()"
   ]
  },
  {
   "cell_type": "code",
   "execution_count": null,
   "metadata": {},
   "outputs": [],
   "source": [
    "import pickle\n",
    "with open(\"/home/fock/code/MultiModalInstructERC/experiments/multimodal/mlp/merge/interpolate/iemocap/LLaMA2-base/audio_upscale_10/stage_1/lrs1.pkl\", \"rb\") as f:\n",
    "    lrs1 = pickle.load(f)\n",
    "\n",
    "with open(\"/home/fock/code/MultiModalInstructERC/experiments/multimodal/mlp/merge/interpolate/iemocap/LLaMA2-base/audio_upscale_10/stage_1/lrs2.pkl\", \"rb\") as f:\n",
    "    lrs2 = pickle.load(f)\n",
    "\n",
    "plt.plot(lrs1)\n",
    "plt.plot(lrs2)\t\n",
    "plt.show()"
   ]
  },
  {
   "cell_type": "code",
   "execution_count": 18,
   "metadata": {},
   "outputs": [
    {
     "name": "stdout",
     "output_type": "stream",
     "text": [
      "1.5223163281168257 13\n"
     ]
    },
    {
     "data": {
      "image/png": "[encoded data removed]",
      "text/plain": [
       "<Figure size 640x480 with 1 Axes>"
      ]
     },
     "metadata": {},
     "output_type": "display_data"
    },
    {
     "name": "stdout",
     "output_type": "stream",
     "text": [
      "0.7765071724582775 13\n"
     ]
    },
    {
     "data": {
      "image/png": "[encoded data removed]",
      "text/plain": [
       "<Figure size 640x480 with 1 Axes>"
      ]
     },
     "metadata": {},
     "output_type": "display_data"
    },
    {
     "name": "stdout",
     "output_type": "stream",
     "text": [
      "0.7316113020398934 4\n"
     ]
    },
    {
     "data": {
      "image/png": "[encoded data removed]",
      "text/plain": [
       "<Figure size 640x480 with 1 Axes>"
      ]
     },
     "metadata": {},
     "output_type": "display_data"
    },
    {
     "name": "stdout",
     "output_type": "stream",
     "text": [
      "0.8168840580826322 0\n"
     ]
    },
    {
     "data": {
      "image/png": "[encoded data removed]",
      "text/plain": [
       "<Figure size 640x480 with 1 Axes>"
      ]
     },
     "metadata": {},
     "output_type": "display_data"
    },
    {
     "name": "stdout",
     "output_type": "stream",
     "text": [
      "1.2585283227154773 0\n"
     ]
    },
    {
     "data": {
      "image/png": "[encoded data removed]",
      "text/plain": [
       "<Figure size 640x480 with 1 Axes>"
      ]
     },
     "metadata": {},
     "output_type": "display_data"
    }
   ],
   "source": [
    "p = \"experiments/multimodal/late_fusion/final/iemocap/LLaMA2-base/final_4/stage_3\"\n",
    "import json\n",
    "import os\n",
    "import matplotlib.pyplot as plt\n",
    "\n",
    "t_losses = list[dict[str, float]]\n",
    "\n",
    "with open(os.path.join(p, \"train_losses.json\")) as f:\n",
    "    train_losses:t_losses = json.load(f)\n",
    "\n",
    "with open(os.path.join(p, \"eval_losses.json\")) as f:\n",
    "    eval_losses:t_losses = json.load(f)\n",
    "\n",
    "def get_losses(loss_dict:t_losses, key:str):\n",
    "    return [loss[key] for loss in loss_dict]\n",
    "\n",
    "# loss_name = \"audio_loss\"\n",
    "\n",
    "\n",
    "\n",
    "for loss_name in train_losses[0].keys():\n",
    "    _train_losses = get_losses(train_losses, loss_name)\n",
    "    _eval_losses = get_losses(eval_losses, loss_name)\n",
    "    print(min(_eval_losses), _eval_losses.index(min(_eval_losses)))\n",
    "    plt.plot(_train_losses)\n",
    "    plt.plot(_eval_losses)\n",
    "    plt.grid(True)\n",
    "    plt.title(loss_name)\n",
    "    plt.legend([\"train\", \"eval\"])\n",
    "    plt.show()\n"
   ]
  },
  {
   "cell_type": "code",
   "execution_count": 20,
   "metadata": {},
   "outputs": [
    {
     "name": "stdout",
     "output_type": "stream",
     "text": [
      "tensor([[0.8496, 0.6192],\n",
      "        [0.0780, 0.1709],\n",
      "        [0.6900, 0.7887],\n",
      "        [0.1512, 0.3968],\n",
      "        [0.5798, 0.8105],\n",
      "        [0.1125, 0.7564],\n",
      "        [0.5286, 0.5044],\n",
      "        [0.6180, 0.2913]])\n"
     ]
    },
    {
     "data": {
      "text/plain": [
       "[[0.8495653867721558, 0.6191512942314148],\n",
       " [0.07795286178588867, 0.17094510793685913],\n",
       " [0.6899776458740234, 0.7887442111968994],\n",
       " [0.15120470523834229, 0.3967589735984802],\n",
       " [0.5798315405845642, 0.8105452656745911],\n",
       " [0.11245429515838623, 0.7564308643341064],\n",
       " [0.5286198854446411, 0.5043877363204956],\n",
       " [0.6179515719413757, 0.2912943363189697]]"
      ]
     },
     "execution_count": 20,
     "metadata": {},
     "output_type": "execute_result"
    }
   ],
   "source": [
    "import torch\n",
    "loss_fn = torch.nn.MSELoss()\n",
    "\n",
    "a = torch.rand(8, 2)\n",
    "b = a\n",
    "print(a)\n",
    "loss = loss_fn(a, b)\n",
    "loss\n",
    "\n",
    "a.tolist()"
   ]
  },
  {
   "cell_type": "code",
   "execution_count": 7,
   "metadata": {},
   "outputs": [],
   "source": [
    "import torch\n",
    "p = \"experiments/multimodal/late_fusion/final/iemocap/LLaMA2-base/final_4/stage_3/best_model.pth\"\n",
    "x = torch.load(p, map_location=\"cpu\")\n",
    "keys = [k for k in x.keys() if \"adapter\" in k]\n",
    "\n",
    "for k in keys:\n",
    "    del x[k]\n",
    "\n",
    "torch.save(x, p)\n"
   ]
  },
  {
   "cell_type": "code",
   "execution_count": 17,
   "metadata": {},
   "outputs": [
    {
     "data": {
      "text/plain": [
       "{'logits': tensor([[ 1.6867,  1.0424, -1.1274, -0.7243, -0.6701],\n",
       "         [ 0.0107,  0.0803, -0.5261,  0.9672,  0.2951],\n",
       "         [-1.5599, -0.3873,  0.3293,  0.6861, -0.2419],\n",
       "         [-0.7683,  0.3649,  1.7521, -0.7705, -1.5282],\n",
       "         [ 3.1649, -1.0460, -0.0995,  0.1159, -0.2027],\n",
       "         [-0.7688,  0.9857,  0.9978,  0.5479,  1.1052],\n",
       "         [ 0.1438, -0.7431,  0.4642,  1.6308, -0.0874],\n",
       "         [-0.7186, -0.9027, -0.0984, -0.8332,  0.1330]]),\n",
       " 'loss': None,\n",
       " 'hidden_states': None,\n",
       " 'attentions': None,\n",
       " 'text_loss': None,\n",
       " 'audio_loss': None,\n",
       " 'gate_loss': None,\n",
       " 'main_loss': None}"
      ]
     },
     "execution_count": 17,
     "metadata": {},
     "output_type": "execute_result"
    }
   ],
   "source": [
    "from utils.model import SequenceClassifierOutput\n",
    "\n",
    "o = SequenceClassifierOutput(logits=torch.randn(8, 5))\n",
    "o.__dict__"
   ]
  },
  {
   "cell_type": "code",
   "execution_count": 15,
   "metadata": {},
   "outputs": [
    {
     "data": {
      "text/plain": [
       "tensor([[ 1.0000e+00, -9.9454e-02,  6.1557e-02, -1.0912e-02,  1.2086e-01,\n",
       "         -7.3180e-02, -2.8667e-02, -7.9728e-02],\n",
       "        [-9.9454e-02,  1.0000e+00,  9.1030e-03, -1.0169e-02, -7.6664e-02,\n",
       "         -6.4474e-02,  6.9024e-03,  4.4008e-02],\n",
       "        [ 6.1557e-02,  9.1030e-03,  1.0000e+00, -1.6393e-01, -3.2175e-02,\n",
       "          3.5205e-04,  5.0895e-02, -1.1088e-01],\n",
       "        [-1.0912e-02, -1.0169e-02, -1.6393e-01,  1.0000e+00,  7.1371e-03,\n",
       "          1.7387e-01, -3.1587e-02,  1.5538e-02],\n",
       "        [ 1.2086e-01, -7.6664e-02, -3.2175e-02,  7.1371e-03,  1.0000e+00,\n",
       "          6.5425e-02, -1.2190e-02,  1.0475e-01],\n",
       "        [-7.3180e-02, -6.4474e-02,  3.5205e-04,  1.7387e-01,  6.5425e-02,\n",
       "          1.0000e+00, -9.7837e-02, -1.0113e-01],\n",
       "        [-2.8667e-02,  6.9024e-03,  5.0895e-02, -3.1587e-02, -1.2190e-02,\n",
       "         -9.7837e-02,  1.0000e+00,  9.8412e-02],\n",
       "        [-7.9728e-02,  4.4008e-02, -1.1088e-01,  1.5538e-02,  1.0475e-01,\n",
       "         -1.0113e-01,  9.8412e-02,  1.0000e+00]])"
      ]
     },
     "execution_count": 15,
     "metadata": {},
     "output_type": "execute_result"
    }
   ],
   "source": [
    "from pytorch_metric_learning import distances\n",
    "import torch\n",
    "\n",
    "loss = distances.CosineSimilarity()\n",
    "x1 = torch.randn(8, 128)\n",
    "x2 = torch.randn(8, 128)\n",
    "labels = torch.randint(0, 3, (8,))\n",
    "\n",
    "loss(x1, x1)\n",
    "# torch.cat([x1, x2], dim=0).shape"
   ]
  },
  {
   "cell_type": "code",
   "execution_count": 10,
   "metadata": {},
   "outputs": [
    {
     "data": {
      "text/plain": [
       "tensor([1.0000, 1.0000, 1.0000])"
      ]
     },
     "execution_count": 10,
     "metadata": {},
     "output_type": "execute_result"
    }
   ],
   "source": [
    "import torch\n",
    "\n",
    "a = torch.randn(3, 6)\n",
    "torch.softmax(a, dim=1).sum(1)"
   ]
  },
  {
   "cell_type": "code",
   "execution_count": 6,
   "metadata": {},
   "outputs": [
    {
     "data": {
      "text/plain": [
       "tensor([[[1.0000, 1.0000, 1.0000, 1.0000, 1.0000, 1.0000, 1.0000, 1.0000,\n",
       "          1.0000, 1.0000],\n",
       "         [1.0000, 1.0000, 1.0000, 1.0000, 1.0000, 1.0000, 1.0000, 1.0000,\n",
       "          1.0000, 1.0000],\n",
       "         [0.5000, 0.5000, 0.5000, 0.5000, 0.5000, 0.5000, 0.5000, 0.5000,\n",
       "          0.5000, 0.5000],\n",
       "         [0.5000, 0.5000, 0.5000, 0.5000, 0.5000, 0.5000, 0.5000, 0.5000,\n",
       "          0.5000, 0.5000],\n",
       "         [1.0000, 1.0000, 1.0000, 1.0000, 1.0000, 1.0000, 1.0000, 1.0000,\n",
       "          1.0000, 1.0000]]])"
      ]
     },
     "execution_count": 6,
     "metadata": {},
     "output_type": "execute_result"
    }
   ],
   "source": [
    "import torch\n",
    "\n",
    "a = torch.randn(1, 5, 10)\n",
    "b = torch.randn(1, 5, 10)\n",
    "b[0, 0:2, :] = 0\n",
    "b[0, 4:5, :] = 0\n",
    "\n",
    "mask = torch.ones_like(a, dtype=torch.float)\n",
    "mask[torch.where(b)] = 0.5\n",
    "mask"
   ]
  },
  {
   "cell_type": "code",
   "execution_count": null,
   "metadata": {},
   "outputs": [],
   "source": [
    "import numpy as np\n",
    "np.random.seed(2)\n",
    "a = np.random.randint(0, 2, (5,)) \n",
    "b = a.copy()\n",
    "b[0] = 1 \n",
    "loss_weights = np.ones((5,)) + (a * 0.3 + b * 0.5)\n",
    "loss_weights[loss_weights == 1.0] = 0.7\n",
    "loss_weights"
   ]
  },
  {
   "cell_type": "code",
   "execution_count": null,
   "metadata": {},
   "outputs": [],
   "source": [
    "p = \"/home/fock/code/MultiModalInstructERC/experiments/multimodal/late_fusion/iemocap/LLaMA2-base/linear/add_aux/stage_2\"\n",
    "import torch\n",
    "\n",
    "state_dict = torch.load(os.path.join(p, \"best_model.pth\"))\n",
    "print(state_dict[\"classifier.weight\"])\n",
    "state_dict[\"classifier.weight\"] = (\n",
    "        state_dict[\"text_projector.classifier.weight\"]\n",
    "        + state_dict[\"audio_projector.classifier.weight\"]\n",
    "    ) / 2\n",
    "print(state_dict[\"classifier.weight\"])"
   ]
  },
  {
   "cell_type": "code",
   "execution_count": 40,
   "metadata": {},
   "outputs": [
    {
     "data": {
      "text/plain": [
       "tensor([[1., 0.],\n",
       "        [1., 0.],\n",
       "        [1., 0.],\n",
       "        [1., 0.],\n",
       "        [0., 1.]])"
      ]
     },
     "execution_count": 40,
     "metadata": {},
     "output_type": "execute_result"
    }
   ],
   "source": [
    "a = torch.randn(5,2)\n",
    "a.softmax(dim=1), torch.sigmoid(a) / torch.sigmoid(a).sum(dim=1, keepdim=True)\n",
    "# scale a between [0,1]\n",
    "a = (a - a.min(dim=1, keepdim=True)[0]) / (a.max(dim=1, keepdim=True)[0] - a.min(dim=1, keepdim=True)[0])\n",
    "a"
   ]
  },
  {
   "cell_type": "code",
   "execution_count": 56,
   "metadata": {},
   "outputs": [
    {
     "data": {
      "text/plain": [
       "0.7090979054166279"
      ]
     },
     "execution_count": 56,
     "metadata": {},
     "output_type": "execute_result"
    }
   ],
   "source": [
    "text_only_p = \"experiments/multimodal/late_fusion/final/iemocap/LLaMA2-base/final_version/stage_3_709/preds_test.json\"\n",
    "\n",
    "import json\n",
    "import pandas as pd\n",
    "from sklearn.metrics import f1_score, accuracy_score\n",
    "\n",
    "with open(text_only_p, \"rt\") as f:\n",
    "    text_only = json.load(f)\n",
    "# print(text_only[0])\n",
    "df = pd.DataFrame.from_records(text_only)\n",
    "df[\"correct\"] = (df[\"target\"] == df[\"output\"]).astype(int)\n",
    "\n",
    "f1_score(df[\"target\"], df[\"output\"], average=\"weighted\")\n"
   ]
  },
  {
   "cell_type": "code",
   "execution_count": 10,
   "metadata": {},
   "outputs": [
    {
     "ename": "",
     "evalue": "",
     "output_type": "error",
     "traceback": [
      "\u001b[1;31mThe Kernel crashed while executing code in the current cell or a previous cell. \n",
      "\u001b[1;31mPlease review the code in the cell(s) to identify a possible cause of the failure. \n",
      "\u001b[1;31mClick <a href='https://aka.ms/vscodeJupyterKernelCrash'>here</a> for more info. \n",
      "\u001b[1;31mView Jupyter <a href='command:jupyter.viewOutput'>log</a> for further details."
     ]
    }
   ],
   "source": [
    "p = \"/home/fock/code/MultiModalInstructERC/experiments/multimodal/late_fusion/final/iemocap/LLaMA2-base/final_version/stage_2/best_model.pth\"\n",
    "d = \"/home/fock/code/MultiModalInstructERC/experiments/multimodal/late_fusion/final/iemocap/LLaMA2-base/final_version_3/stage_2/best_model.pth\"\n",
    "\n",
    "import torch\n",
    "\n",
    "state_dict_p:dict[str, torch.Tensor] = torch.load(p)\n",
    "state_dict_d:dict[str, torch.Tensor] = torch.load(d)\n",
    "\n",
    "for k, v in state_dict_p.items():\n",
    "    if \"text_projector\" in k:\n",
    "        _, layer = k.split(\".\", 1)\n",
    "        state_dict_d[f\"text_classifier.{layer}\"] = state_dict_p[k]\n",
    "\n",
    "torch.save(state_dict_d, d)"
   ]
  },
  {
   "cell_type": "code",
   "execution_count": null,
   "metadata": {},
   "outputs": [],
   "source": [
    "text_only_p = \"/home/fock/code/MultiModalInstructERC/experiments/multimodal/late_fusion/final/iemocap/LLaMA2-base/final_version/stage_2\"\n",
    "audio_only_p = \"/home/fock/code/MultiModalInstructERC/experiments/multimodal/late_fusion/iemocap/LLaMA2-base/linear/mha_gate_add/stage_1/preds_test_no_text.json\"\n",
    "both_p = \"/home/fock/code/MultiModalInstructERC/experiments/multimodal/late_fusion/iemocap/LLaMA2-base/linear/mha_gate_add/stage_2/preds_test.json\"\n",
    "\n",
    "import json\n",
    "import pandas as pd\n",
    "\n",
    "with open(text_only_p, \"rt\") as f:\n",
    "    text_only = json.load(f)\n",
    "\n",
    "with open(audio_only_p, \"rt\") as f:\n",
    "    audio_only = json.load(f)\n",
    "\n",
    "with open(both_p, \"rt\") as f:\n",
    "    both = json.load(f)\n",
    "\n",
    "results = pd.DataFrame.from_records(text_only, index=[\"index\"]).merge(\n",
    "    pd.DataFrame.from_records(audio_only, index=[\"index\", \"input\", \"target\"]),\n",
    "    on=[\"index\"],\n",
    "    suffixes=[\"_text\", \"_audio\"],\n",
    ").merge(pd.DataFrame.from_records(both, index=[\"index\", \"input\", \"target\"]), on=[\"index\"], suffixes=[\"_both\"])\n",
    "assert len(results) == len(text_only)\n",
    "results"
   ]
  },
  {
   "cell_type": "code",
   "execution_count": null,
   "metadata": {},
   "outputs": [],
   "source": [
    "results[\"utterance\"] = results[\"input\"].str.extract(\"<Speaker_\\d: \\\"(.*?)\\\">\")\n",
    "audio_or_text_true = results[(results[\"output_text\"] == results[\"target\"]) | (results[\"output_audio\"] == results[\"target\"])]\n",
    "audio_or_text_true"
   ]
  },
  {
   "cell_type": "code",
   "execution_count": null,
   "metadata": {},
   "outputs": [],
   "source": [
    "results[\"any_correct\"] = results[(results[\"output_text\"] == results[\"target\"]) | (results[\"output_audio\"] == results[\"target\"])][\"target\"]\n",
    "results.loc[results[\"any_correct\"].isna(), \"any_correct\"] = results.loc[results[\"any_correct\"].isna(), \"output_text\"]\n",
    "\n",
    "from sklearn.metrics import f1_score\n",
    "\n",
    "f1_score(results[\"target\"], results[\"any_correct\"], average=\"weighted\")"
   ]
  },
  {
   "cell_type": "code",
   "execution_count": null,
   "metadata": {},
   "outputs": [],
   "source": [
    "results[\"max_cert_correct\"] = results[results[\"certainty_audio\"] > results[\"certainty_text\"]][\"output_audio\"]\n",
    "results.loc[results[\"max_cert_correct\"].isna(), \"max_cert_correct\"] = results.loc[results[\"max_cert_correct\"].isna(), \"output_text\"]\n",
    "\n",
    "print(len(results[results[\"max_cert_correct\"] == results[\"target\"]]))\n",
    "print(len(results[results[\"any_correct\"] == results[\"target\"]]))\n",
    "print(len(results[results[\"output\"] == results[\"target\"]]))"
   ]
  },
  {
   "cell_type": "code",
   "execution_count": 1,
   "metadata": {},
   "outputs": [
    {
     "name": "stdout",
     "output_type": "stream",
     "text": [
      "tensor([[-0.0000,  0.0000],\n",
      "        [-0.0000,  0.0000],\n",
      "        [-0.0000,  0.0000],\n",
      "        [-0.0000,  0.0000],\n",
      "        [-0.0000,  0.0000],\n",
      "        [-0.3465,  3.4202],\n",
      "        [-0.3465,  3.4202],\n",
      "        [-0.3465,  3.4202],\n",
      "        [-0.3465,  3.4202],\n",
      "        [-0.3465,  3.4202]])\n"
     ]
    },
    {
     "data": {
      "text/plain": [
       "tensor([[-0.0000,  0.0000],\n",
       "        [-0.0000,  0.0000],\n",
       "        [-0.0000,  0.0000],\n",
       "        [-0.0000,  0.0000],\n",
       "        [-0.0000,  0.0000],\n",
       "        [-0.3465,  3.4202],\n",
       "        [-0.3465,  3.4202],\n",
       "        [-0.3465,  3.4202],\n",
       "        [-0.3465,  3.4202],\n",
       "        [-0.3465,  3.4202]])"
      ]
     },
     "execution_count": 1,
     "metadata": {},
     "output_type": "execute_result"
    }
   ],
   "source": [
    "import torch\n",
    "\n",
    "w = torch.randn(10, 2, requires_grad=True)\n",
    "x = torch.ones(10, 1)\n",
    "x[:5, :] = 0\n",
    "o = torch.matmul(x.T,w)\n",
    "y = torch.zeros((1, 2))\n",
    "\n",
    "loss_fn = torch.nn.MSELoss()\n",
    "nllloss = loss_fn(o, y)\n",
    "\n",
    "w.register_hook(lambda grad: print(grad))\n",
    "\n",
    "nllloss.backward()\n",
    "w.grad"
   ]
  },
  {
   "cell_type": "code",
   "execution_count": null,
   "metadata": {},
   "outputs": [],
   "source": [
    "import numpy as np\n",
    "print(np.mean(np.diff(eval_losses[-4:])))\n",
    "print(np.mean(np.diff(train_losses[-3:])))"
   ]
  },
  {
   "cell_type": "code",
   "execution_count": null,
   "metadata": {},
   "outputs": [],
   "source": [
    "import torch\n",
    "\n",
    "x = torch.load(\"experiments/multimodal/concat/iemocap/LLaMA2-base/mlp/audio_instruction/stage_1/best_model.pth\", map_location=\"cpu\")\n",
    "\n",
    "x\n"
   ]
  },
  {
   "cell_type": "code",
   "execution_count": null,
   "metadata": {},
   "outputs": [],
   "source": [
    "p = \"/home/fock/code/MultiModalInstructERC/experiments/multimodal/late_fusion/iemocap/LLaMA2-base/text_only/stage_3/preds_test.json\"\n",
    "import json\n",
    "\n",
    "with open(p) as f:\n",
    "    preds = json.load(f)\n",
    "\n",
    "from sklearn.metrics import f1_score\n",
    "targets = [x[\"target\"] for x in preds]\n",
    "outputs = [x[\"output\"] for x in preds]\n",
    "\n",
    "f1_score(targets, outputs, average=\"weighted\", labels=[\"angry\", \"excited\", \"frustrated\", \"happy\", \"neutral\", \"sad\"])"
   ]
  },
  {
   "cell_type": "code",
   "execution_count": null,
   "metadata": {},
   "outputs": [],
   "source": [
    "from pytorch_metric_learning import losses\n",
    "torch.random.manual_seed(0)\n",
    "nllloss = losses.NTXentLoss()\n",
    "x = torch.randn(8, 10)\n",
    "y = torch.randint(0, 5, (8,))\n",
    "# x[y == 4] = 1\n",
    "\n",
    "nllloss(x, y)"
   ]
  },
  {
   "cell_type": "code",
   "execution_count": null,
   "metadata": {},
   "outputs": [],
   "source": [
    "import torch\n",
    "import torch.nn as nn\n",
    "\n",
    "mha = nn.MultiheadAttention(10, 2, batch_first=True)\n",
    "gate = nn.Linear(10, 1)\n",
    "x = torch.randn(1, 8, 10)\n",
    "att, att_weights =mha(x, x, x)\n",
    "gate(torch.mean(att, dim=1))"
   ]
  },
  {
   "cell_type": "code",
   "execution_count": null,
   "metadata": {},
   "outputs": [],
   "source": [
    "import torch.nn as nn\n",
    "import torch\n",
    "torch.random.manual_seed(0)\n",
    "\n",
    "x1 = torch.randn(4, 3)\n",
    "x2 = torch.randn(4, 3)\n",
    "y = torch.randint(0, 3, (4,))\n",
    "\n",
    "x1[0,0] = 20\n",
    "y[0] = 0\n",
    "\n",
    "\n",
    "# nllloss = nn.NLLLoss(reduction=\"none\")\n",
    "# celoss = nn.CrossEntropyLoss(reduction=\"none\")\n",
    "\n",
    "# print(celoss(x, y))\n",
    "# print(nllloss(torch.log_softmax(x, dim=1), y))\n",
    "x1_prob, x2_prob = torch.softmax(x1, dim=1), torch.softmax(x2, dim=1)\n",
    "x1_pred, x2_pred = torch.argmax(x1_prob, dim=1, keepdim=False), torch.argmax(x2_prob, dim=1, keepdim=False)\n",
    "\n",
    "x1_correct, x2_correct = (x1_pred == y).float(), (x2_pred == y).float()\n",
    "torch.stack([x1_correct, x2_correct], dim=1)"
   ]
  },
  {
   "cell_type": "code",
   "execution_count": null,
   "metadata": {},
   "outputs": [],
   "source": [
    "torch.random.manual_seed(0)\n",
    "y = torch.randint(0, 2, (4,2)).float()\n",
    "y_pred = torch.rand(4, 2)\n",
    "weights = torch.zeros_like(y) + torch.stack([torch.zeros(y.shape[0]), y[:,1]], dim=1)\n",
    "bce = nn.BCEWithLogitsLoss(pos_weight=weights)\n",
    "bce(y_pred, y)"
   ]
  },
  {
   "cell_type": "code",
   "execution_count": null,
   "metadata": {},
   "outputs": [],
   "source": [
    "import torch\n",
    "\n",
    "torch.random.manual_seed(0)\n",
    "\n",
    "a = torch.randn(4, 3, requires_grad=True)\n",
    "b = torch.randn(4, 3, requires_grad=True)\n",
    "c = torch.randn(4, 3, requires_grad=True)\n",
    "\n",
    "loss_fn = nn.MSELoss()\n",
    "loss1 = loss_fn(a, b)\n",
    "loss2 = loss_fn(a, c)\n",
    "\n",
    "loss = loss1 + loss2\n",
    "loss.backward()\n",
    "\n",
    "print(a.grad[[0,2]])"
   ]
  },
  {
   "cell_type": "code",
   "execution_count": 4,
   "metadata": {},
   "outputs": [],
   "source": [
    "def print_trainable_parameters(model):\n",
    "    for name, param in model.named_parameters():\n",
    "        if param.requires_grad:\n",
    "            print(name, param.shape)"
   ]
  },
  {
   "cell_type": "code",
   "execution_count": null,
   "metadata": {},
   "outputs": [],
   "source": [
    "from transformers import AutoModelForCausalLM, AutoConfig\n",
    "import os\n",
    "from peft import LoraConfig, get_peft_model\n",
    "from transformers import AutoModelForCausalLM, AutoTokenizer\n",
    "import torch\n",
    "\n",
    "# llm_config = AutoConfig.from_pretrained(os.path.abspath(\"models/language/LLaMA2-base\"))\n",
    "llm = AutoModelForCausalLM.from_pretrained(os.path.abspath(\"models/language/LLaMA2-base\"))\n",
    "# llm_config.num_hidden_layers = 16\n",
    "# llm = AutoModelForCausalLM.from_config(llm_config)\n",
    "# llm.from_pretrained(os.path.abspath(\"models/language/LLaMA2-base\"))\n",
    "\n",
    "\n",
    "peft_config = LoraConfig(\n",
    "    r=8,\n",
    "    lora_alpha=16,\n",
    "    lora_dropout=0.0,\n",
    "    # target_modules=\".*\\.([0-9]|1[0-6])\\..*([qkvo]_proj).*\",\n",
    "    # target_modules=\".*([qkvo]_proj).*\",\n",
    "    target_modules=\".*\\.([0-9]|1[0-6])\\..*([qkvo]_proj|mlp\\..*?_proj).*\",\n",
    "    bias=\"none\",\n",
    ")\n",
    "model = get_peft_model(llm, peft_config)\n",
    "\n",
    "model.print_trainable_parameters()"
   ]
  },
  {
   "cell_type": "code",
   "execution_count": null,
   "metadata": {},
   "outputs": [],
   "source": [
    "type(model)"
   ]
  },
  {
   "cell_type": "code",
   "execution_count": null,
   "metadata": {},
   "outputs": [],
   "source": [
    "import torch\n",
    "p = \"/home/fock/code/MultiModalInstructERC/experiments/multimodal/late_fusion/iemocap/LLaMA2-base/linear/add_aux_lossgate_bce/stage_3_715/best_model.pth\"\n",
    "sd = torch.load(p, map_location=\"cpu\")\n",
    "print(sd.keys())\n",
    "# sd = {k:v for k,v in sd.items() if \"projector\" in k}\n",
    "# torch.save(sd, \"experiments/multimodal/late_fusion/iemocap/LLaMA2-base/linear/simple_gate/best_model.pth\")"
   ]
  },
  {
   "cell_type": "code",
   "execution_count": 9,
   "metadata": {},
   "outputs": [
    {
     "name": "stdout",
     "output_type": "stream",
     "text": [
      "['neutral', 'sad', 'frustrated', 'happy', 'excited', 'angry']\n"
     ]
    },
    {
     "data": {
      "text/plain": [
       "0.6923523053584558"
      ]
     },
     "execution_count": 9,
     "metadata": {},
     "output_type": "execute_result"
    }
   ],
   "source": [
    "from sklearn.metrics import f1_score\n",
    "import json\n",
    "\n",
    "with open(\"/home/fock/code/MultiModalInstructERC/experiments/multimodal/late_fusion/iemocap/LLaMA2-base/linear/simple_gate/stage_1/preds_test_no_audio.json\", \"rt\") as f:\n",
    "    preds = json.load(f)\n",
    "\n",
    "targets = list(set([x[\"target\"] for x in preds]))\n",
    "print(targets)\n",
    "\n",
    "f1_score([x[\"target\"] for x in preds], [x[\"output\"] for x in preds], average=\"weighted\")\n"
   ]
  },
  {
   "cell_type": "code",
   "execution_count": 17,
   "metadata": {},
   "outputs": [
    {
     "data": {
      "text/plain": [
       "tensor([[0.7852, 1.0000, 0.0000],\n",
       "        [0.6149, 0.0000, 1.0000],\n",
       "        [0.9218, 1.0000, 0.0000],\n",
       "        [0.0000, 1.0000, 0.1152]])"
      ]
     },
     "execution_count": 17,
     "metadata": {},
     "output_type": "execute_result"
    }
   ],
   "source": [
    "x = torch.randn(4, 3)\n",
    "\n",
    "from functools import partial\n",
    "\n",
    "def min_max_rescale(x:torch.Tensor):\n",
    "    g = lambda f: partial(f, dim=1, keepdims=True)\n",
    "    f = lambda h, x: g(h)(x).values \n",
    "    return (x - f(torch.min, x)) / (f(torch.max, x) - f(torch.min, x))\n",
    "\n",
    "min_max_rescale(x)"
   ]
  },
  {
   "cell_type": "code",
   "execution_count": 12,
   "metadata": {},
   "outputs": [
    {
     "data": {
      "text/plain": [
       "(500, 2)"
      ]
     },
     "execution_count": 12,
     "metadata": {},
     "output_type": "execute_result"
    }
   ],
   "source": [
    "import numpy as np\n",
    "from numpy.lib.stride_tricks import sliding_window_view\n",
    "\n",
    "x = np.ones((1000,))\n",
    "\n",
    "w = sliding_window_view(x, (2,))\n",
    "w[::2].shape"
   ]
  },
  {
   "cell_type": "code",
   "execution_count": 19,
   "metadata": {},
   "outputs": [
    {
     "name": "stdout",
     "output_type": "stream",
     "text": [
      "The receptive field is: 10\n",
      "The receptive field is: 20\n",
      "The receptive field is: 40\n",
      "The receptive field is: 80\n",
      "The receptive field is: 160\n",
      "The receptive field is: 240\n",
      "The receptive field is: 400\n",
      "The output length is: (50, 15950)\n"
     ]
    }
   ],
   "source": [
    "def calculate_receptive_field(kernel_sizes, strides):\n",
    "    \"\"\"\n",
    "    Calculate the receptive field of a 1D CNN.\n",
    "\n",
    "    Parameters:\n",
    "        kernel_sizes (list): A list of kernel sizes for each layer.\n",
    "        strides (list): A list of strides for each layer.\n",
    "\n",
    "    Returns:\n",
    "        int: The total receptive field size.\n",
    "    \"\"\"\n",
    "    receptive_field = 1  # Initial receptive field size\n",
    "    total_stride = 1  # Initial total stride size\n",
    "\n",
    "    for kernel_size, stride in zip(kernel_sizes, strides):\n",
    "        receptive_field += (kernel_size - 1) * total_stride\n",
    "        total_stride *= stride\n",
    "\n",
    "    return receptive_field\n",
    "\n",
    "\n",
    "def calculate_output_size(input_size, kernel_sizes, strides):\n",
    "    \"\"\"\n",
    "    Calculate the output size after a sequence is passed through a 1D CNN.\n",
    "\n",
    "    Parameters:\n",
    "    - input_size (int): The initial length of the input sequence.\n",
    "    - kernel_sizes (list): A list of integers representing the kernel size of each layer.\n",
    "    - strides (list): A list of integers representing the stride of each layer.\n",
    "\n",
    "    Returns:\n",
    "    - final_output_size (int): The final size of the sequence after all layers.\n",
    "    - size_reduction (int): By how much the sequence has been shortened.\n",
    "    \"\"\"\n",
    "    \n",
    "    output_size = input_size\n",
    "    \n",
    "    # Iterate through each layer\n",
    "    for kernel_size, stride in zip(kernel_sizes, strides):\n",
    "        output_size = (output_size - (kernel_size - 1)) // stride + 1\n",
    "\n",
    "    # Calculate the size reduction\n",
    "    size_reduction = input_size - output_size\n",
    "    \n",
    "    return output_size, size_reduction\n",
    "\n",
    "# Example usage:\n",
    "input_size = 16000  # Length of the input sequence\n",
    "# Example usage\n",
    "kernel_sizes = [10, 3, 3, 3, 3, 2, 2]\n",
    "strides = [5, 2, 2, 2, 2, 2, 2]\n",
    "for i in range(1, len(kernel_sizes)+1):\n",
    "    receptive_field = calculate_receptive_field(kernel_sizes[:i], strides[:i])\n",
    "    print(f\"The receptive field is: {receptive_field}\")\n",
    "\n",
    "output_length = calculate_output_size(input_size, kernel_sizes, strides)\n",
    "print(f\"The output length is: {output_length}\")\n"
   ]
  },
  {
   "cell_type": "code",
   "execution_count": 20,
   "metadata": {},
   "outputs": [
    {
     "data": {
      "text/plain": [
       "0.003125"
      ]
     },
     "execution_count": 20,
     "metadata": {},
     "output_type": "execute_result"
    }
   ],
   "source": [
    "output_length[0] / input_size"
   ]
  },
  {
   "cell_type": "code",
   "execution_count": 19,
   "metadata": {},
   "outputs": [
    {
     "ename": "TypeError",
     "evalue": "argument 0 is not a Variable",
     "output_type": "error",
     "traceback": [
      "\u001b[0;31m---------------------------------------------------------------------------\u001b[0m",
      "\u001b[0;31mTypeError\u001b[0m                                 Traceback (most recent call last)",
      "Cell \u001b[0;32mIn[19], line 16\u001b[0m\n\u001b[1;32m     13\u001b[0m mask[audio\u001b[38;5;241m.\u001b[39mabs()\u001b[38;5;241m.\u001b[39msum(dim\u001b[38;5;241m=\u001b[39m\u001b[38;5;241m1\u001b[39m) \u001b[38;5;241m>\u001b[39m \u001b[38;5;241m0\u001b[39m] \u001b[38;5;241m=\u001b[39m alpha \u001b[38;5;241m*\u001b[39m \u001b[38;5;241m0.5\u001b[39m\n\u001b[1;32m     14\u001b[0m o \u001b[38;5;241m=\u001b[39m text \u001b[38;5;241m*\u001b[39m mask \u001b[38;5;241m+\u001b[39m audio \u001b[38;5;241m*\u001b[39m beta\n\u001b[0;32m---> 16\u001b[0m \u001b[43mo\u001b[49m\u001b[38;5;241;43m.\u001b[39;49m\u001b[43mgrad_fn\u001b[49m\u001b[43m(\u001b[49m\u001b[38;5;241;43m0\u001b[39;49m\u001b[43m)\u001b[49m\n",
      "\u001b[0;31mTypeError\u001b[0m: argument 0 is not a Variable"
     ]
    }
   ],
   "source": [
    "import torch\n",
    "import torch.nn as nn\n",
    "\n",
    "text = torch.randn(10, 5)\n",
    "audio = torch.randn(10, 5)\n",
    "alpha = torch.tensor(0.5, requires_grad=True)\n",
    "beta = torch.tensor(0.5, requires_grad=True)\n",
    "\n",
    "audio[:3, :] = 0\n",
    "audio[6:, :] = 0\n",
    "\n",
    "mask = torch.ones_like(text)\n",
    "mask[audio.abs().sum(dim=1) > 0] = alpha * 0.5\n",
    "o = text * mask + audio * beta\n",
    "\n"
   ]
  }
 ],
 "metadata": {
  "kernelspec": {
   "display_name": "Python 3",
   "language": "python",
   "name": "python3"
  },
  "language_info": {
   "codemirror_mode": {
    "name": "ipython",
    "version": 3
   },
   "file_extension": ".py",
   "mimetype": "text/x-python",
   "name": "python",
   "nbconvert_exporter": "python",
   "pygments_lexer": "ipython3",
   "version": "3.11.9"
  }
 },
 "nbformat": 4,
 "nbformat_minor": 2
}
