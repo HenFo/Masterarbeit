{
 "cells": [
  {
   "cell_type": "code",
   "execution_count": 2,
   "metadata": {},
   "outputs": [],
   "source": [
    "import torch\n",
    "import torch.nn.functional as F"
   ]
  },
  {
   "cell_type": "code",
   "execution_count": 3,
   "metadata": {},
   "outputs": [
    {
     "data": {
      "text/plain": [
       "tensor([[-1,  0,  0,  0,  0,  0,  0, -2,  0,  0],\n",
       "        [ 0,  0,  0,  0,  0,  0,  0,  0, -1, -2],\n",
       "        [-1,  0,  0,  0,  0,  0,  0, -2,  0,  0]])"
      ]
     },
     "execution_count": 3,
     "metadata": {},
     "output_type": "execute_result"
    }
   ],
   "source": [
    "bs = 3\n",
    "a = torch.zeros(bs,10, dtype=torch.int64)\n",
    "# a = torch.arange(10*bs, dtype=torch.int64).view(bs,10)\n",
    "pos_start = torch.randint(0,5,(bs,1))\n",
    "pos_end = torch.randint(6,10,(bs,1))\n",
    "a = a.scatter(1, pos_start, -1)\n",
    "a = a.scatter(1, pos_end, -2)\n",
    "a[1,:] = 0\n",
    "a[1,-1] = -2\n",
    "a[1,-2] = -1\n",
    "a"
   ]
  },
  {
   "cell_type": "code",
   "execution_count": 4,
   "metadata": {},
   "outputs": [],
   "source": [
    "# exclude = (a == -1) | (a == -2)\n",
    "# b = torch.randn(bs,10,5)\n",
    "# bs, ts, fs = b.shape\n",
    "# b[~exclude].view(bs, ts-2, fs)"
   ]
  },
  {
   "cell_type": "code",
   "execution_count": 5,
   "metadata": {},
   "outputs": [
    {
     "data": {
      "text/plain": [
       "tensor([6, 0, 6])"
      ]
     },
     "execution_count": 5,
     "metadata": {},
     "output_type": "execute_result"
    }
   ],
   "source": [
    "start_tokens = torch.where(a == -1)[1]\n",
    "end_tokens = torch.where(a == -2)[1]\n",
    "# start_tokens, end_tokens\n",
    "vector_length = end_tokens - start_tokens -1\n",
    "vector_length"
   ]
  },
  {
   "cell_type": "code",
   "execution_count": 6,
   "metadata": {},
   "outputs": [
    {
     "name": "stdout",
     "output_type": "stream",
     "text": [
      "tensor(6)\n",
      "tensor(0)\n",
      "tensor(6)\n",
      "tensor([[0., 0., 0., 0., 0.],\n",
      "        [0., 0., 0., 0., 0.],\n",
      "        [0., 0., 0., 0., 0.],\n",
      "        [0., 0., 0., 0., 0.],\n",
      "        [0., 0., 0., 0., 0.],\n",
      "        [0., 0., 0., 0., 0.],\n",
      "        [0., 0., 0., 0., 0.],\n",
      "        [0., 0., 0., 0., 0.],\n",
      "        [0., 0., 0., 0., 0.],\n",
      "        [0., 0., 0., 0., 0.]])\n"
     ]
    }
   ],
   "source": [
    "def aggregate_temporal_features(vectors, num_vectors):\n",
    "    assert len(vectors.size()) == 3\n",
    "    interpolated_vectors = torch.nn.functional.interpolate(\n",
    "        torch.swapaxes(vectors, 1, 2),\n",
    "        size=num_vectors,\n",
    "        mode=\"linear\",\n",
    "        align_corners=True,\n",
    "    )\n",
    "    interpolated_vectors = torch.swapaxes(interpolated_vectors, 1, 2)\n",
    "    assert interpolated_vectors.size()[1] == num_vectors\n",
    "    return interpolated_vectors\n",
    "\n",
    "vectors = torch.rand(bs, 3, 5)\n",
    "embeds = torch.ones(bs, 10, 5)\n",
    "\n",
    "# aggregate_temporal_features(embeds, 2).shape\n",
    "\n",
    "aggregated = []\n",
    "for i, l in enumerate(vector_length):\n",
    "    print(l)\n",
    "    if l == 0:\n",
    "        aggregated.append(torch.zeros(embeds.size(1), embeds.size(2)))\n",
    "        continue\n",
    "    agg = aggregate_temporal_features(vectors[None,i], l)\n",
    "    agg = F.pad(agg, (0, 0, start_tokens[i]+1, embeds.size(1)-start_tokens[i]-l-1), \"constant\", 0)\n",
    "    aggregated.append(agg[0])\n",
    "\n",
    "aggregated = torch.stack(aggregated)\n",
    "print(aggregated[1])\n"
   ]
  },
  {
   "cell_type": "code",
   "execution_count": 7,
   "metadata": {},
   "outputs": [
    {
     "data": {
      "text/plain": [
       "tensor([[[1.0000, 1.0000, 1.0000, 1.0000, 1.0000],\n",
       "         [1.6983, 1.7216, 1.6454, 1.6309, 1.5370],\n",
       "         [1.4943, 1.7212, 1.6303, 1.5303, 1.7120],\n",
       "         [1.2903, 1.7208, 1.6152, 1.4297, 1.8870],\n",
       "         [1.2537, 1.7550, 1.5177, 1.3049, 1.9126],\n",
       "         [1.3844, 1.8238, 1.3377, 1.1558, 1.7886],\n",
       "         [1.5151, 1.8926, 1.1578, 1.0068, 1.6646],\n",
       "         [1.0000, 1.0000, 1.0000, 1.0000, 1.0000],\n",
       "         [1.0000, 1.0000, 1.0000, 1.0000, 1.0000],\n",
       "         [1.0000, 1.0000, 1.0000, 1.0000, 1.0000]],\n",
       "\n",
       "        [[1.0000, 1.0000, 1.0000, 1.0000, 1.0000],\n",
       "         [1.0000, 1.0000, 1.0000, 1.0000, 1.0000],\n",
       "         [1.0000, 1.0000, 1.0000, 1.0000, 1.0000],\n",
       "         [1.0000, 1.0000, 1.0000, 1.0000, 1.0000],\n",
       "         [1.0000, 1.0000, 1.0000, 1.0000, 1.0000],\n",
       "         [1.0000, 1.0000, 1.0000, 1.0000, 1.0000],\n",
       "         [1.0000, 1.0000, 1.0000, 1.0000, 1.0000],\n",
       "         [1.0000, 1.0000, 1.0000, 1.0000, 1.0000],\n",
       "         [1.0000, 1.0000, 1.0000, 1.0000, 1.0000],\n",
       "         [1.0000, 1.0000, 1.0000, 1.0000, 1.0000]],\n",
       "\n",
       "        [[1.0000, 1.0000, 1.0000, 1.0000, 1.0000],\n",
       "         [1.8024, 1.1577, 1.7455, 1.8153, 1.2242],\n",
       "         [1.7620, 1.2115, 1.6346, 1.8613, 1.4074],\n",
       "         [1.7215, 1.2653, 1.5238, 1.9074, 1.5905],\n",
       "         [1.6054, 1.2881, 1.4047, 1.8312, 1.7154],\n",
       "         [1.4135, 1.2797, 1.2775, 1.6327, 1.7818],\n",
       "         [1.2217, 1.2713, 1.1502, 1.4343, 1.8483],\n",
       "         [1.0000, 1.0000, 1.0000, 1.0000, 1.0000],\n",
       "         [1.0000, 1.0000, 1.0000, 1.0000, 1.0000],\n",
       "         [1.0000, 1.0000, 1.0000, 1.0000, 1.0000]]])"
      ]
     },
     "execution_count": 7,
     "metadata": {},
     "output_type": "execute_result"
    }
   ],
   "source": [
    "embeds + aggregated"
   ]
  },
  {
   "cell_type": "code",
   "execution_count": 8,
   "metadata": {},
   "outputs": [
    {
     "data": {
      "text/plain": [
       "torch.Size([3, 10, 5])"
      ]
     },
     "execution_count": 8,
     "metadata": {},
     "output_type": "execute_result"
    }
   ],
   "source": [
    "aggregated.shape"
   ]
  },
  {
   "cell_type": "code",
   "execution_count": 9,
   "metadata": {},
   "outputs": [
    {
     "name": "stdout",
     "output_type": "stream",
     "text": [
      "tensor(17.7693)\n",
      "tensor(17.7693)\n"
     ]
    },
    {
     "data": {
      "text/plain": [
       "(tensor([[-0.1258, -0.1524,  0.7494,  0.5661,  1.8487],\n",
       "         [ 1.6920,  0.6840, -1.1152,  1.3223, -0.2633],\n",
       "         [ 1.3500,  1.3081,  1.1198,  2.2377,  2.1168],\n",
       "         [ 0.7527, -0.3527, -0.6959,  1.5667,  1.7935],\n",
       "         [ 1.5988, -0.5551,  0.6586,  2.8530,  1.7502],\n",
       "         [ 0.4145,  0.8266,  1.1835,  2.3894,  2.5863],\n",
       "         [ 1.9463,  0.1563,  0.3864,  1.0316,  0.5073],\n",
       "         [ 1.2484,  1.4397,  1.1124,  1.6408,  1.4412],\n",
       "         [ 0.8977,  1.7924,  0.7103,  1.0525,  1.5229],\n",
       "         [ 3.3022, -0.4689, -0.5867,  0.3269,  1.8728]]),\n",
       " tensor([[-0.1258, -0.1524,  0.7494,  0.5661,  1.8487],\n",
       "         [ 1.7593,  1.0346, -0.3458,  1.4376,  0.2014],\n",
       "         [ 1.3602,  1.4967,  1.2907,  2.0414,  2.0862],\n",
       "         [ 0.7750,  0.2735, -0.0600,  1.4833,  1.9917],\n",
       "         [ 1.5068,  0.1626,  0.9568,  2.5686,  2.1659],\n",
       "         [ 0.6303,  1.3020,  1.2001,  2.0079,  2.6626],\n",
       "         [ 1.7975,  0.7660,  0.3974,  0.7583,  0.8559],\n",
       "         [ 1.2484,  1.4397,  1.1124,  1.6408,  1.4412],\n",
       "         [ 0.8977,  1.7924,  0.7103,  1.0525,  1.5229],\n",
       "         [ 3.3022, -0.4689, -0.5867,  0.3269,  1.8728]]),\n",
       " tensor([[0.0000, 0.0000, 0.0000, 0.0000, 0.0000],\n",
       "         [0.6983, 0.7216, 0.6454, 0.6309, 0.5370],\n",
       "         [0.4943, 0.7212, 0.6303, 0.5303, 0.7120],\n",
       "         [0.2903, 0.7208, 0.6152, 0.4297, 0.8870],\n",
       "         [0.2537, 0.7550, 0.5177, 0.3049, 0.9126],\n",
       "         [0.3844, 0.8238, 0.3377, 0.1558, 0.7886],\n",
       "         [0.5151, 0.8926, 0.1578, 0.0068, 0.6646],\n",
       "         [0.0000, 0.0000, 0.0000, 0.0000, 0.0000],\n",
       "         [0.0000, 0.0000, 0.0000, 0.0000, 0.0000],\n",
       "         [0.0000, 0.0000, 0.0000, 0.0000, 0.0000]]))"
      ]
     },
     "execution_count": 9,
     "metadata": {},
     "output_type": "execute_result"
    }
   ],
   "source": [
    "import torch\n",
    "\n",
    "torch.random.manual_seed(0)\n",
    "a = torch.normal(1, 1, (3, 10, 5))\n",
    "b = aggregated\n",
    "\n",
    "torch.norm(a, dim=2, keepdim=True).shape\n",
    "\n",
    "c = a + b\n",
    "c = (c / (torch.norm(c, dim=2, keepdim=True) + 1e-6)) * torch.norm(a, dim=2, keepdim=True)\n",
    "\n",
    "print(torch.norm(a))\n",
    "print(torch.norm(c))\n",
    "a[0], c[0], b[0]"
   ]
  },
  {
   "cell_type": "code",
   "execution_count": 10,
   "metadata": {},
   "outputs": [
    {
     "data": {
      "text/plain": [
       "tensor([[-0.1437,  0.1191, -0.2846, -0.0213,  0.2781, -0.1290,  0.2856,  0.1145,\n",
       "         -0.2854,  0.2001],\n",
       "        [-0.0365, -0.1412,  0.2529, -0.2555,  0.0339, -0.0662,  0.2258,  0.0883,\n",
       "          0.1519,  0.1117],\n",
       "        [-0.0760, -0.0665, -0.2606,  0.1713,  0.2511,  0.2164, -0.2231,  0.0141,\n",
       "         -0.2229, -0.1741],\n",
       "        [-0.1843,  0.1081, -0.1884, -0.0069,  0.0133,  0.2038, -0.2390, -0.2171,\n",
       "         -0.1836,  0.2213],\n",
       "        [-0.1137,  0.2667,  0.1144,  0.0400, -0.0024, -0.0625,  0.0397, -0.0722,\n",
       "         -0.0022,  0.0403]])"
      ]
     },
     "execution_count": 10,
     "metadata": {},
     "output_type": "execute_result"
    }
   ],
   "source": [
    "import torch\n",
    "import torch.nn as nn\n",
    "from peft import LoraConfig, get_peft_model\n",
    "\n",
    "\n",
    "class SimpleNet(nn.Module):\n",
    "\tdef __init__(self):\n",
    "\t\tsuper(SimpleNet, self).__init__()\n",
    "\t\tself.fc1 = nn.Linear(10, 5)\n",
    "\t\tself.fc2 = nn.Linear(5, 2)\n",
    "\t\n",
    "\tdef forward(self, x):\n",
    "\t\tx = torch.relu(self.fc1(x))\n",
    "\t\tx = self.fc2(x)\n",
    "\t\treturn x\n",
    "\t\n",
    "\t# def state_dict(self, include_fc1=True, include_fc2=True, **kwargs):\n",
    "\t# \t# Get the original state_dict\n",
    "\t# \toriginal_state_dict = super(SimpleNet, self).state_dict(**kwargs)\n",
    "\t\t\n",
    "\t# \t# Filter the state_dict based on custom parameters\n",
    "\t# \tfiltered_state_dict = {}\n",
    "\t# \tif include_fc1:\n",
    "\t# \t\tfiltered_state_dict.update({k: v for k, v in original_state_dict.items() if 'fc1' in k})\n",
    "\t# \tif include_fc2:\n",
    "\t# \t\tfiltered_state_dict.update({k: v for k, v in original_state_dict.items() if 'fc2' in k})\n",
    "\t\t\n",
    "\t# \t# Add custom information\n",
    "\t# \tcustom_info = {'custom_info': 'This is a custom state dict'}\n",
    "\t\t\n",
    "\t# \t# Combine the filtered state_dict with custom information\n",
    "\t# \tcombined_state_dict = {**filtered_state_dict, **custom_info}\n",
    "\t\t\n",
    "\t# \treturn combined_state_dict\n",
    "\n",
    "# Function to apply LoRA adapter\n",
    "def apply_lora_adapter(model):\n",
    "\tlora_config = LoraConfig(\n",
    "\t\tr=4,  # Rank of the low-rank approximation\n",
    "\t\tlora_alpha=32,  # Scaling factor\n",
    "\t\tlora_dropout=0.1,  # Dropout rate\n",
    "\t\ttarget_modules=['fc1', 'fc2']  # Target modules to apply LoRA\n",
    "\t)\n",
    "\tlora_model = get_peft_model(model, lora_config)\n",
    "\t\n",
    "\t# Override the state_dict method to forward additional parameters\n",
    "\t# def lora_state_dict(self, include_fc1=True, include_fc2=True, **kwargs):\n",
    "\t# \treturn self.model.state_dict(include_fc1=include_fc1, include_fc2=include_fc2, **kwargs)\n",
    "\t\n",
    "\t# lora_model.state_dict = lora_state_dict.__get__(lora_model, type(lora_model))\n",
    "\t\n",
    "\treturn lora_model\n",
    "\n",
    "# Example usage\n",
    "model = SimpleNet()\n",
    "# model_with_lora = apply_lora_adapter(model)\n",
    "sd = model.state_dict()\n",
    "sd[\"fc1.weight\"]"
   ]
  },
  {
   "cell_type": "code",
   "execution_count": 29,
   "metadata": {},
   "outputs": [
    {
     "data": {
      "text/plain": [
       "{'alpha': tensor(1., device='cuda:0', dtype=torch.bfloat16),\n",
       " 'projector.proj1.weight': tensor([[-0.0187, -0.0043, -0.0107,  ...,  0.0024, -0.0188, -0.0027],\n",
       "         [ 0.0031, -0.0076,  0.0120,  ...,  0.0278,  0.0038, -0.0007],\n",
       "         [ 0.0303, -0.0283,  0.0148,  ..., -0.0240,  0.0251,  0.0184],\n",
       "         ...,\n",
       "         [ 0.0027,  0.0327,  0.0114,  ..., -0.0281, -0.0222, -0.0033],\n",
       "         [ 0.0212,  0.0093,  0.0150,  ...,  0.0075,  0.0110, -0.0076],\n",
       "         [-0.0200,  0.0209,  0.0083,  ...,  0.0178, -0.0023, -0.0178]],\n",
       "        device='cuda:0', dtype=torch.bfloat16),\n",
       " 'projector.proj1.bias': tensor([-0.0014,  0.0087, -0.0043,  ..., -0.0048,  0.0029,  0.0015],\n",
       "        device='cuda:0', dtype=torch.bfloat16),\n",
       " 'projector.proj2.weight': tensor([[ 0.0060, -0.0065,  0.0052,  ...,  0.0008,  0.0051,  0.0123],\n",
       "         [ 0.0061, -0.0140,  0.0093,  ..., -0.0133,  0.0051,  0.0106],\n",
       "         [ 0.0017, -0.0023,  0.0008,  ..., -0.0129, -0.0074,  0.0089],\n",
       "         ...,\n",
       "         [ 0.0092,  0.0080,  0.0114,  ..., -0.0078, -0.0121,  0.0116],\n",
       "         [ 0.0058,  0.0112, -0.0060,  ..., -0.0085, -0.0109,  0.0074],\n",
       "         [-0.0086,  0.0016, -0.0071,  ..., -0.0102, -0.0005, -0.0063]],\n",
       "        device='cuda:0', dtype=torch.bfloat16),\n",
       " 'projector.proj2.bias': tensor([ 0.0126,  0.0070,  0.0030,  ...,  0.0101,  0.0101, -0.0115],\n",
       "        device='cuda:0', dtype=torch.bfloat16)}"
      ]
     },
     "execution_count": 29,
     "metadata": {},
     "output_type": "execute_result"
    }
   ],
   "source": [
    "x = torch.load(\"/home/fock/code/MultiModalInstructERC/experiments/multimodal/mlp/merge/interpolate/iemocap/LLaMA2-base/audio_upscale_10/stage_2/best_model.pth\")\n",
    "x"
   ]
  },
  {
   "cell_type": "code",
   "execution_count": 24,
   "metadata": {},
   "outputs": [
    {
     "name": "stdout",
     "output_type": "stream",
     "text": [
      "tensor([[ 0.6624,  0.8755,  0.8055,  0.7713],\n",
      "        [ 0.5892,  1.3825,  0.1828, -0.3601],\n",
      "        [-0.0272, -0.4731, -0.2902,  0.3396]])\n",
      "tensor([[ 0.8342,  0.8427,  0.5625,  0.8347],\n",
      "        [-0.3954,  0.1127,  0.5490,  0.4007],\n",
      "        [ 0.8994,  0.0465,  0.4784,  0.1051]])\n",
      "tensor([-0.1837])\n"
     ]
    }
   ],
   "source": [
    "import torch\n",
    "torch.random.manual_seed(0)\n",
    "a = torch.randn(3,4, requires_grad=True)\n",
    "b = torch.randn(3,4, requires_grad=True)\n",
    "s = torch.nn.Parameter(torch.tensor([1.0], requires_grad=True))\n",
    "# s = torch.tensor(1.0, requires_grad=True)\n",
    "\n",
    "x = a + b * s\n",
    "x = (x / x.norm(dim=1, keepdim=True)) * a.norm(dim=1, keepdim=True)\n",
    "\n",
    "x.sum().backward()\n",
    "\n",
    "print(a.grad) \n",
    "print(b.grad)\n",
    "print(s.grad)\n"
   ]
  },
  {
   "cell_type": "code",
   "execution_count": 7,
   "metadata": {},
   "outputs": [],
   "source": [
    "import torch\n",
    "import torch.nn as nn\n",
    "from torch.optim import AdamW\n",
    "\n",
    "class Model(nn.Module):\n",
    "    def __init__(self):\n",
    "        super().__init__()\n",
    "        self.fc1 = nn.Linear(2, 2)\n",
    "        self.fc2 = nn.Linear(2, 1)\n",
    "        self.scale = nn.Parameter(torch.tensor(2.0))\n",
    "\n",
    "        # self.scale.register_post_accumulate_grad_hook(lambda p: print(p))\n",
    "    \n",
    "    def forward(self, x):\n",
    "        x1, x2 = x\n",
    "        scaled_x2 = x2 * self.scale\n",
    "        added = x1 + scaled_x2\n",
    "        out = (added / added.norm(dim=1, keepdim=True)) * x1.norm(dim=1, keepdim=True)\n",
    "        out = self.fc1(out)\n",
    "        out = torch.sigmoid(out)\n",
    "        out = self.fc2(out)\n",
    "        out = torch.sigmoid(out)\n",
    "        return out\n"
   ]
  },
  {
   "cell_type": "code",
   "execution_count": 10,
   "metadata": {},
   "outputs": [
    {
     "name": "stdout",
     "output_type": "stream",
     "text": [
      "0.2443932592868805\n"
     ]
    },
    {
     "data": {
      "text/plain": [
       "tensor([[0.5006],\n",
       "        [0.4992],\n",
       "        [0.9665],\n",
       "        [0.0355]], grad_fn=<SigmoidBackward0>)"
      ]
     },
     "execution_count": 10,
     "metadata": {},
     "output_type": "execute_result"
    }
   ],
   "source": [
    "import torch\n",
    "torch.random.manual_seed(0)\n",
    "\n",
    "# X1 = torch.randn(4, 2)\n",
    "x = torch.tensor([[-1.0, -1.0], [-1.0, 1.0], [1.0, -1.0], [1.0, 1.0]])\n",
    "y = torch.tensor([[0.0], [1.0], [1.0], [0.0]])\n",
    "\n",
    "model = Model()\n",
    "# a = model((X1, X2))\n",
    "# print(X1.norm(dim=1, keepdim=True))\n",
    "# print(a.norm(dim=1, keepdim=True))\n",
    "\n",
    "# print(X1)\n",
    "# print(a)\n",
    "\n",
    "\n",
    "optimizer = AdamW(model.parameters(), lr=0.1)\n",
    "loss_fn = nn.MSELoss()\n",
    "\n",
    "for i in range(1000):\n",
    "    noise = torch.normal(0, 1, (4,2))\n",
    "    y_pred = model((x, noise))\n",
    "    loss = loss_fn(y_pred, y)\n",
    "    if i % 1000 == 0:\n",
    "        print(loss.item())\n",
    "    optimizer.zero_grad()\n",
    "    loss.backward()\n",
    "    optimizer.step()\n",
    "\n",
    "model((x, torch.normal(0, 0.2, (4,2))))"
   ]
  },
  {
   "cell_type": "code",
   "execution_count": 11,
   "metadata": {},
   "outputs": [
    {
     "name": "stdout",
     "output_type": "stream",
     "text": [
      "scale Parameter containing:\n",
      "tensor(-0.0188, requires_grad=True)\n",
      "fc1.weight Parameter containing:\n",
      "tensor([[ 4.6813,  2.4685],\n",
      "        [ 4.9566, -2.7886]], requires_grad=True)\n",
      "fc1.bias Parameter containing:\n",
      "tensor([-4.8508, -5.2509], requires_grad=True)\n",
      "fc2.weight Parameter containing:\n",
      "tensor([[-3.8208,  3.9183]], requires_grad=True)\n",
      "fc2.bias Parameter containing:\n",
      "tensor([-2.2093e-05], requires_grad=True)\n"
     ]
    }
   ],
   "source": [
    "for n, p in model.named_parameters():\n",
    "    print(n, p)"
   ]
  },
  {
   "cell_type": "code",
   "execution_count": 24,
   "metadata": {},
   "outputs": [
    {
     "name": "stdout",
     "output_type": "stream",
     "text": [
      "tensor(-1.0852e-05)\n"
     ]
    }
   ],
   "source": [
    "# with torch.no_grad():\n",
    "a = model((x, torch.normal(0, 0.2, (4,2))))\n",
    "loss = loss_fn(a, y)\n",
    "loss.backward()\n",
    "print(model.scale.grad)"
   ]
  },
  {
   "cell_type": "code",
   "execution_count": 26,
   "metadata": {},
   "outputs": [
    {
     "data": {
      "application/vnd.jupyter.widget-view+json": {
       "model_id": "c9adbd95728e4bdba0eb40e783ce9464",
       "version_major": 2,
       "version_minor": 0
      },
      "text/plain": [
       "Loading checkpoint shards:   0%|          | 0/6 [00:00<?, ?it/s]"
      ]
     },
     "metadata": {},
     "output_type": "display_data"
    },
    {
     "name": "stdout",
     "output_type": "stream",
     "text": [
      "model.embed_tokens.weight\n",
      "model.layers.0.self_attn.q_proj.weight\n",
      "model.layers.0.self_attn.k_proj.weight\n",
      "model.layers.0.self_attn.v_proj.weight\n",
      "model.layers.0.self_attn.o_proj.weight\n",
      "model.layers.0.mlp.gate_proj.weight\n",
      "model.layers.0.mlp.up_proj.weight\n",
      "model.layers.0.mlp.down_proj.weight\n",
      "model.layers.0.input_layernorm.weight\n",
      "model.layers.0.post_attention_layernorm.weight\n",
      "model.layers.1.self_attn.q_proj.weight\n",
      "model.layers.1.self_attn.k_proj.weight\n",
      "model.layers.1.self_attn.v_proj.weight\n",
      "model.layers.1.self_attn.o_proj.weight\n",
      "model.layers.1.mlp.gate_proj.weight\n",
      "model.layers.1.mlp.up_proj.weight\n",
      "model.layers.1.mlp.down_proj.weight\n",
      "model.layers.1.input_layernorm.weight\n",
      "model.layers.1.post_attention_layernorm.weight\n",
      "model.layers.2.self_attn.q_proj.weight\n",
      "model.layers.2.self_attn.k_proj.weight\n",
      "model.layers.2.self_attn.v_proj.weight\n",
      "model.layers.2.self_attn.o_proj.weight\n",
      "model.layers.2.mlp.gate_proj.weight\n",
      "model.layers.2.mlp.up_proj.weight\n",
      "model.layers.2.mlp.down_proj.weight\n",
      "model.layers.2.input_layernorm.weight\n",
      "model.layers.2.post_attention_layernorm.weight\n",
      "model.layers.3.self_attn.q_proj.weight\n",
      "model.layers.3.self_attn.k_proj.weight\n",
      "model.layers.3.self_attn.v_proj.weight\n",
      "model.layers.3.self_attn.o_proj.weight\n",
      "model.layers.3.mlp.gate_proj.weight\n",
      "model.layers.3.mlp.up_proj.weight\n",
      "model.layers.3.mlp.down_proj.weight\n",
      "model.layers.3.input_layernorm.weight\n",
      "model.layers.3.post_attention_layernorm.weight\n",
      "model.layers.4.self_attn.q_proj.weight\n",
      "model.layers.4.self_attn.k_proj.weight\n",
      "model.layers.4.self_attn.v_proj.weight\n",
      "model.layers.4.self_attn.o_proj.weight\n",
      "model.layers.4.mlp.gate_proj.weight\n",
      "model.layers.4.mlp.up_proj.weight\n",
      "model.layers.4.mlp.down_proj.weight\n",
      "model.layers.4.input_layernorm.weight\n",
      "model.layers.4.post_attention_layernorm.weight\n",
      "model.layers.5.self_attn.q_proj.weight\n",
      "model.layers.5.self_attn.k_proj.weight\n",
      "model.layers.5.self_attn.v_proj.weight\n",
      "model.layers.5.self_attn.o_proj.weight\n",
      "model.layers.5.mlp.gate_proj.weight\n",
      "model.layers.5.mlp.up_proj.weight\n",
      "model.layers.5.mlp.down_proj.weight\n",
      "model.layers.5.input_layernorm.weight\n",
      "model.layers.5.post_attention_layernorm.weight\n",
      "model.layers.6.self_attn.q_proj.weight\n",
      "model.layers.6.self_attn.k_proj.weight\n",
      "model.layers.6.self_attn.v_proj.weight\n",
      "model.layers.6.self_attn.o_proj.weight\n",
      "model.layers.6.mlp.gate_proj.weight\n",
      "model.layers.6.mlp.up_proj.weight\n",
      "model.layers.6.mlp.down_proj.weight\n",
      "model.layers.6.input_layernorm.weight\n",
      "model.layers.6.post_attention_layernorm.weight\n",
      "model.layers.7.self_attn.q_proj.weight\n",
      "model.layers.7.self_attn.k_proj.weight\n",
      "model.layers.7.self_attn.v_proj.weight\n",
      "model.layers.7.self_attn.o_proj.weight\n",
      "model.layers.7.mlp.gate_proj.weight\n",
      "model.layers.7.mlp.up_proj.weight\n",
      "model.layers.7.mlp.down_proj.weight\n",
      "model.layers.7.input_layernorm.weight\n",
      "model.layers.7.post_attention_layernorm.weight\n",
      "model.layers.8.self_attn.q_proj.weight\n",
      "model.layers.8.self_attn.k_proj.weight\n",
      "model.layers.8.self_attn.v_proj.weight\n",
      "model.layers.8.self_attn.o_proj.weight\n",
      "model.layers.8.mlp.gate_proj.weight\n",
      "model.layers.8.mlp.up_proj.weight\n",
      "model.layers.8.mlp.down_proj.weight\n",
      "model.layers.8.input_layernorm.weight\n",
      "model.layers.8.post_attention_layernorm.weight\n",
      "model.layers.9.self_attn.q_proj.weight\n",
      "model.layers.9.self_attn.k_proj.weight\n",
      "model.layers.9.self_attn.v_proj.weight\n",
      "model.layers.9.self_attn.o_proj.weight\n",
      "model.layers.9.mlp.gate_proj.weight\n",
      "model.layers.9.mlp.up_proj.weight\n",
      "model.layers.9.mlp.down_proj.weight\n",
      "model.layers.9.input_layernorm.weight\n",
      "model.layers.9.post_attention_layernorm.weight\n",
      "model.layers.10.self_attn.q_proj.weight\n",
      "model.layers.10.self_attn.k_proj.weight\n",
      "model.layers.10.self_attn.v_proj.weight\n",
      "model.layers.10.self_attn.o_proj.weight\n",
      "model.layers.10.mlp.gate_proj.weight\n",
      "model.layers.10.mlp.up_proj.weight\n",
      "model.layers.10.mlp.down_proj.weight\n",
      "model.layers.10.input_layernorm.weight\n",
      "model.layers.10.post_attention_layernorm.weight\n",
      "model.layers.11.self_attn.q_proj.weight\n",
      "model.layers.11.self_attn.k_proj.weight\n",
      "model.layers.11.self_attn.v_proj.weight\n",
      "model.layers.11.self_attn.o_proj.weight\n",
      "model.layers.11.mlp.gate_proj.weight\n",
      "model.layers.11.mlp.up_proj.weight\n",
      "model.layers.11.mlp.down_proj.weight\n",
      "model.layers.11.input_layernorm.weight\n",
      "model.layers.11.post_attention_layernorm.weight\n",
      "model.layers.12.self_attn.q_proj.weight\n",
      "model.layers.12.self_attn.k_proj.weight\n",
      "model.layers.12.self_attn.v_proj.weight\n",
      "model.layers.12.self_attn.o_proj.weight\n",
      "model.layers.12.mlp.gate_proj.weight\n",
      "model.layers.12.mlp.up_proj.weight\n",
      "model.layers.12.mlp.down_proj.weight\n",
      "model.layers.12.input_layernorm.weight\n",
      "model.layers.12.post_attention_layernorm.weight\n",
      "model.layers.13.self_attn.q_proj.weight\n",
      "model.layers.13.self_attn.k_proj.weight\n",
      "model.layers.13.self_attn.v_proj.weight\n",
      "model.layers.13.self_attn.o_proj.weight\n",
      "model.layers.13.mlp.gate_proj.weight\n",
      "model.layers.13.mlp.up_proj.weight\n",
      "model.layers.13.mlp.down_proj.weight\n",
      "model.layers.13.input_layernorm.weight\n",
      "model.layers.13.post_attention_layernorm.weight\n",
      "model.layers.14.self_attn.q_proj.weight\n",
      "model.layers.14.self_attn.k_proj.weight\n",
      "model.layers.14.self_attn.v_proj.weight\n",
      "model.layers.14.self_attn.o_proj.weight\n",
      "model.layers.14.mlp.gate_proj.weight\n",
      "model.layers.14.mlp.up_proj.weight\n",
      "model.layers.14.mlp.down_proj.weight\n",
      "model.layers.14.input_layernorm.weight\n",
      "model.layers.14.post_attention_layernorm.weight\n",
      "model.layers.15.self_attn.q_proj.weight\n",
      "model.layers.15.self_attn.k_proj.weight\n",
      "model.layers.15.self_attn.v_proj.weight\n",
      "model.layers.15.self_attn.o_proj.weight\n",
      "model.layers.15.mlp.gate_proj.weight\n",
      "model.layers.15.mlp.up_proj.weight\n",
      "model.layers.15.mlp.down_proj.weight\n",
      "model.layers.15.input_layernorm.weight\n",
      "model.layers.15.post_attention_layernorm.weight\n",
      "model.layers.16.self_attn.q_proj.weight\n",
      "model.layers.16.self_attn.k_proj.weight\n",
      "model.layers.16.self_attn.v_proj.weight\n",
      "model.layers.16.self_attn.o_proj.weight\n",
      "model.layers.16.mlp.gate_proj.weight\n",
      "model.layers.16.mlp.up_proj.weight\n",
      "model.layers.16.mlp.down_proj.weight\n",
      "model.layers.16.input_layernorm.weight\n",
      "model.layers.16.post_attention_layernorm.weight\n",
      "model.layers.17.self_attn.q_proj.weight\n",
      "model.layers.17.self_attn.k_proj.weight\n",
      "model.layers.17.self_attn.v_proj.weight\n",
      "model.layers.17.self_attn.o_proj.weight\n",
      "model.layers.17.mlp.gate_proj.weight\n",
      "model.layers.17.mlp.up_proj.weight\n",
      "model.layers.17.mlp.down_proj.weight\n",
      "model.layers.17.input_layernorm.weight\n",
      "model.layers.17.post_attention_layernorm.weight\n",
      "model.layers.18.self_attn.q_proj.weight\n",
      "model.layers.18.self_attn.k_proj.weight\n",
      "model.layers.18.self_attn.v_proj.weight\n",
      "model.layers.18.self_attn.o_proj.weight\n",
      "model.layers.18.mlp.gate_proj.weight\n",
      "model.layers.18.mlp.up_proj.weight\n",
      "model.layers.18.mlp.down_proj.weight\n",
      "model.layers.18.input_layernorm.weight\n",
      "model.layers.18.post_attention_layernorm.weight\n",
      "model.layers.19.self_attn.q_proj.weight\n",
      "model.layers.19.self_attn.k_proj.weight\n",
      "model.layers.19.self_attn.v_proj.weight\n",
      "model.layers.19.self_attn.o_proj.weight\n",
      "model.layers.19.mlp.gate_proj.weight\n",
      "model.layers.19.mlp.up_proj.weight\n",
      "model.layers.19.mlp.down_proj.weight\n",
      "model.layers.19.input_layernorm.weight\n",
      "model.layers.19.post_attention_layernorm.weight\n",
      "model.layers.20.self_attn.q_proj.weight\n",
      "model.layers.20.self_attn.k_proj.weight\n",
      "model.layers.20.self_attn.v_proj.weight\n",
      "model.layers.20.self_attn.o_proj.weight\n",
      "model.layers.20.mlp.gate_proj.weight\n",
      "model.layers.20.mlp.up_proj.weight\n",
      "model.layers.20.mlp.down_proj.weight\n",
      "model.layers.20.input_layernorm.weight\n",
      "model.layers.20.post_attention_layernorm.weight\n",
      "model.layers.21.self_attn.q_proj.weight\n",
      "model.layers.21.self_attn.k_proj.weight\n",
      "model.layers.21.self_attn.v_proj.weight\n",
      "model.layers.21.self_attn.o_proj.weight\n",
      "model.layers.21.mlp.gate_proj.weight\n",
      "model.layers.21.mlp.up_proj.weight\n",
      "model.layers.21.mlp.down_proj.weight\n",
      "model.layers.21.input_layernorm.weight\n",
      "model.layers.21.post_attention_layernorm.weight\n",
      "model.layers.22.self_attn.q_proj.weight\n",
      "model.layers.22.self_attn.k_proj.weight\n",
      "model.layers.22.self_attn.v_proj.weight\n",
      "model.layers.22.self_attn.o_proj.weight\n",
      "model.layers.22.mlp.gate_proj.weight\n",
      "model.layers.22.mlp.up_proj.weight\n",
      "model.layers.22.mlp.down_proj.weight\n",
      "model.layers.22.input_layernorm.weight\n",
      "model.layers.22.post_attention_layernorm.weight\n",
      "model.layers.23.self_attn.q_proj.weight\n",
      "model.layers.23.self_attn.k_proj.weight\n",
      "model.layers.23.self_attn.v_proj.weight\n",
      "model.layers.23.self_attn.o_proj.weight\n",
      "model.layers.23.mlp.gate_proj.weight\n",
      "model.layers.23.mlp.up_proj.weight\n",
      "model.layers.23.mlp.down_proj.weight\n",
      "model.layers.23.input_layernorm.weight\n",
      "model.layers.23.post_attention_layernorm.weight\n",
      "model.layers.24.self_attn.q_proj.weight\n",
      "model.layers.24.self_attn.k_proj.weight\n",
      "model.layers.24.self_attn.v_proj.weight\n",
      "model.layers.24.self_attn.o_proj.weight\n",
      "model.layers.24.mlp.gate_proj.weight\n",
      "model.layers.24.mlp.up_proj.weight\n",
      "model.layers.24.mlp.down_proj.weight\n",
      "model.layers.24.input_layernorm.weight\n",
      "model.layers.24.post_attention_layernorm.weight\n",
      "model.layers.25.self_attn.q_proj.weight\n",
      "model.layers.25.self_attn.k_proj.weight\n",
      "model.layers.25.self_attn.v_proj.weight\n",
      "model.layers.25.self_attn.o_proj.weight\n",
      "model.layers.25.mlp.gate_proj.weight\n",
      "model.layers.25.mlp.up_proj.weight\n",
      "model.layers.25.mlp.down_proj.weight\n",
      "model.layers.25.input_layernorm.weight\n",
      "model.layers.25.post_attention_layernorm.weight\n",
      "model.layers.26.self_attn.q_proj.weight\n",
      "model.layers.26.self_attn.k_proj.weight\n",
      "model.layers.26.self_attn.v_proj.weight\n",
      "model.layers.26.self_attn.o_proj.weight\n",
      "model.layers.26.mlp.gate_proj.weight\n",
      "model.layers.26.mlp.up_proj.weight\n",
      "model.layers.26.mlp.down_proj.weight\n",
      "model.layers.26.input_layernorm.weight\n",
      "model.layers.26.post_attention_layernorm.weight\n",
      "model.layers.27.self_attn.q_proj.weight\n",
      "model.layers.27.self_attn.k_proj.weight\n",
      "model.layers.27.self_attn.v_proj.weight\n",
      "model.layers.27.self_attn.o_proj.weight\n",
      "model.layers.27.mlp.gate_proj.weight\n",
      "model.layers.27.mlp.up_proj.weight\n",
      "model.layers.27.mlp.down_proj.weight\n",
      "model.layers.27.input_layernorm.weight\n",
      "model.layers.27.post_attention_layernorm.weight\n",
      "model.layers.28.self_attn.q_proj.weight\n",
      "model.layers.28.self_attn.k_proj.weight\n",
      "model.layers.28.self_attn.v_proj.weight\n",
      "model.layers.28.self_attn.o_proj.weight\n",
      "model.layers.28.mlp.gate_proj.weight\n",
      "model.layers.28.mlp.up_proj.weight\n",
      "model.layers.28.mlp.down_proj.weight\n",
      "model.layers.28.input_layernorm.weight\n",
      "model.layers.28.post_attention_layernorm.weight\n",
      "model.layers.29.self_attn.q_proj.weight\n",
      "model.layers.29.self_attn.k_proj.weight\n",
      "model.layers.29.self_attn.v_proj.weight\n",
      "model.layers.29.self_attn.o_proj.weight\n",
      "model.layers.29.mlp.gate_proj.weight\n",
      "model.layers.29.mlp.up_proj.weight\n",
      "model.layers.29.mlp.down_proj.weight\n",
      "model.layers.29.input_layernorm.weight\n",
      "model.layers.29.post_attention_layernorm.weight\n",
      "model.layers.30.self_attn.q_proj.weight\n",
      "model.layers.30.self_attn.k_proj.weight\n",
      "model.layers.30.self_attn.v_proj.weight\n",
      "model.layers.30.self_attn.o_proj.weight\n",
      "model.layers.30.mlp.gate_proj.weight\n",
      "model.layers.30.mlp.up_proj.weight\n",
      "model.layers.30.mlp.down_proj.weight\n",
      "model.layers.30.input_layernorm.weight\n",
      "model.layers.30.post_attention_layernorm.weight\n",
      "model.layers.31.self_attn.q_proj.weight\n",
      "model.layers.31.self_attn.k_proj.weight\n",
      "model.layers.31.self_attn.v_proj.weight\n",
      "model.layers.31.self_attn.o_proj.weight\n",
      "model.layers.31.mlp.gate_proj.weight\n",
      "model.layers.31.mlp.up_proj.weight\n",
      "model.layers.31.mlp.down_proj.weight\n",
      "model.layers.31.input_layernorm.weight\n",
      "model.layers.31.post_attention_layernorm.weight\n",
      "model.norm.weight\n",
      "lm_head.weight\n"
     ]
    }
   ],
   "source": [
    "from transformers import LlamaForCausalLM\n",
    "\n",
    "llama = LlamaForCausalLM.from_pretrained(\"/home/fock/code/MultiModalInstructERC/models/language/LLaMA2-base\")\n",
    "for n, p in llama.named_parameters():\n",
    "    print(n)"
   ]
  },
  {
   "cell_type": "code",
   "execution_count": 21,
   "metadata": {},
   "outputs": [
    {
     "data": {
      "image/png": "[encoded data removed]",
      "text/plain": [
       "<Figure size 640x480 with 1 Axes>"
      ]
     },
     "metadata": {},
     "output_type": "display_data"
    }
   ],
   "source": [
    "import math\n",
    "from torch.optim.lr_scheduler import LambdaLR\n",
    "from torch.optim import AdamW\n",
    "from accelerate import Accelerator\n",
    "\n",
    "acc = Accelerator(gradient_accumulation_steps=100)\n",
    "\n",
    "\n",
    "def get_scheduler(\n",
    "    optimizer,\n",
    "    len_dataset,\n",
    "    batch_size,\n",
    "    gradient_accumulation_steps,\n",
    "    epochs,\n",
    "    min_lr_frac=0.5,\n",
    "):\n",
    "    num_steps = math.ceil(len_dataset / batch_size)\n",
    "    num_steps *= epochs\n",
    "    warmup_steps = math.ceil(num_steps * 0.1)\n",
    "\n",
    "    def cosine_decay_with_warmup(step):\n",
    "        if step < warmup_steps:\n",
    "            return float(step) / max(1.0, warmup_steps)\n",
    "\n",
    "        progress = float(step - warmup_steps) / max(1, num_steps - warmup_steps)\n",
    "        cos_progress = 0.5 * (1 + math.cos(math.pi * progress))\n",
    "        return cos_progress + (1 - cos_progress) * min_lr_frac\n",
    "\n",
    "    scheduler = LambdaLR(optimizer, lr_lambda=cosine_decay_with_warmup)\n",
    "\n",
    "    return scheduler\n",
    "\n",
    "model = Model()\n",
    "optimizer = AdamW(model.parameters(), lr=1)\n",
    "lr_scheduler = get_scheduler(\n",
    "    optimizer,\n",
    "    10000,\n",
    "    10,\n",
    "    1,\n",
    "    10,\n",
    "    min_lr_frac=0.5,\n",
    ")\n",
    "\n",
    "\n",
    "lrs = []\n",
    "for epoch in range(10):\n",
    "    for batch in range(10000 // 10):\n",
    "        with acc.accumulate(model):\n",
    "            lr_scheduler.step()\n",
    "            lrs.extend(lr_scheduler.get_last_lr())\n",
    "\n",
    "import matplotlib.pyplot as plt\n",
    "plt.plot(lrs)\n",
    "plt.show()"
   ]
  },
  {
   "cell_type": "code",
   "execution_count": 28,
   "metadata": {},
   "outputs": [
    {
     "data": {
      "image/png": "[encoded data removed]",
      "text/plain": [
       "<Figure size 640x480 with 1 Axes>"
      ]
     },
     "metadata": {},
     "output_type": "display_data"
    }
   ],
   "source": [
    "import pickle\n",
    "with open(\"/home/fock/code/MultiModalInstructERC/experiments/multimodal/mlp/merge/interpolate/iemocap/LLaMA2-base/audio_upscale_10/stage_1/lrs1.pkl\", \"rb\") as f:\n",
    "    lrs1 = pickle.load(f)\n",
    "\n",
    "with open(\"/home/fock/code/MultiModalInstructERC/experiments/multimodal/mlp/merge/interpolate/iemocap/LLaMA2-base/audio_upscale_10/stage_1/lrs2.pkl\", \"rb\") as f:\n",
    "    lrs2 = pickle.load(f)\n",
    "\n",
    "plt.plot(lrs1)\n",
    "plt.plot(lrs2)\t\n",
    "plt.show()"
   ]
  },
  {
   "cell_type": "code",
   "execution_count": 1,
   "metadata": {},
   "outputs": [
    {
     "data": {
      "image/png": "[encoded data removed]",
      "text/plain": [
       "<Figure size 640x480 with 1 Axes>"
      ]
     },
     "metadata": {},
     "output_type": "display_data"
    }
   ],
   "source": [
    "p = \"/home/fock/code/MultiModalInstructERC/experiments/multimodal/mlp/merge/interpolate/iemocap/LLaMA2-base/projector_only2/stage_1\"\n",
    "import json\n",
    "import os\n",
    "import matplotlib.pyplot as plt\n",
    "\n",
    "with open(os.path.join(p, \"train_losses.json\")) as f:\n",
    "    train_losses = json.load(f)\n",
    "\n",
    "with open(os.path.join(p, \"eval_losses.json\")) as f:\n",
    "    eval_losses = json.load(f)\n",
    "\n",
    "plt.plot(train_losses)\n",
    "plt.plot(eval_losses)\n",
    "plt.show()"
   ]
  },
  {
   "cell_type": "code",
   "execution_count": 4,
   "metadata": {},
   "outputs": [
    {
     "data": {
      "text/plain": [
       "{'alpha': tensor([1.], device='cuda:0', dtype=torch.bfloat16),\n",
       " 'projector.proj1.weight': tensor([[-0.0087,  0.0182,  0.0082,  ...,  0.0262, -0.0217, -0.0115],\n",
       "         [-0.0012,  0.0026,  0.0135,  ..., -0.0138, -0.0012, -0.0239],\n",
       "         [-0.0173,  0.0147, -0.0173,  ...,  0.0075, -0.0092, -0.0079],\n",
       "         ...,\n",
       "         [ 0.0278, -0.0132, -0.0203,  ..., -0.0197,  0.0227,  0.0128],\n",
       "         [ 0.0187,  0.0330,  0.0148,  ..., -0.0208, -0.0106,  0.0226],\n",
       "         [ 0.0012,  0.0203, -0.0161,  ...,  0.0016, -0.0128, -0.0147]],\n",
       "        device='cuda:0', dtype=torch.bfloat16),\n",
       " 'projector.proj1.bias': tensor([ 0.0193,  0.0142,  0.0337,  ..., -0.0013, -0.0143,  0.0195],\n",
       "        device='cuda:0', dtype=torch.bfloat16),\n",
       " 'projector.norm.scale': tensor([1.0078, 0.9961, 1.0000,  ..., 1.0000, 0.9961, 1.0000], device='cuda:0',\n",
       "        dtype=torch.bfloat16),\n",
       " 'projector.proj2.weight': tensor([[-0.0210, -0.0258,  0.0251,  ...,  0.0223,  0.0288, -0.0096],\n",
       "         [ 0.0189, -0.0226, -0.0256,  ...,  0.0084, -0.0009,  0.0076],\n",
       "         [ 0.0209,  0.0109,  0.0293,  ...,  0.0095,  0.0175, -0.0349],\n",
       "         ...,\n",
       "         [-0.0289, -0.0317,  0.0146,  ..., -0.0135,  0.0065, -0.0116],\n",
       "         [ 0.0289, -0.0005, -0.0030,  ...,  0.0061, -0.0061, -0.0016],\n",
       "         [ 0.0079, -0.0034, -0.0109,  ..., -0.0275,  0.0037, -0.0175]],\n",
       "        device='cuda:0', dtype=torch.bfloat16),\n",
       " 'projector.proj2.bias': tensor([-0.0052, -0.0085, -0.0294,  ...,  0.0234, -0.0049,  0.0152],\n",
       "        device='cuda:0', dtype=torch.bfloat16)}"
      ]
     },
     "execution_count": 4,
     "metadata": {},
     "output_type": "execute_result"
    }
   ],
   "source": [
    "import torch\n",
    "x = torch.load(\"/home/fock/code/MultiModalInstructERC/experiments/multimodal/mlp/merge/interpolate/iemocap/LLaMA2-base/projector_only2/stage_1/best_model.pth\")\n",
    "x"
   ]
  },
  {
   "cell_type": "code",
   "execution_count": 11,
   "metadata": {},
   "outputs": [
    {
     "ename": "RuntimeError",
     "evalue": "mat1 and mat2 shapes cannot be multiplied (3x10 and 1x1)",
     "output_type": "error",
     "traceback": [
      "\u001b[0;31m---------------------------------------------------------------------------\u001b[0m",
      "\u001b[0;31mRuntimeError\u001b[0m                              Traceback (most recent call last)",
      "Cell \u001b[0;32mIn[11], line 7\u001b[0m\n\u001b[1;32m      3\u001b[0m \u001b[38;5;28mnext\u001b[39m(a\u001b[38;5;241m.\u001b[39mparameters())\n\u001b[1;32m      5\u001b[0m b \u001b[38;5;241m=\u001b[39m torch\u001b[38;5;241m.\u001b[39mrandn(\u001b[38;5;241m3\u001b[39m, \u001b[38;5;241m10\u001b[39m)\n\u001b[0;32m----> 7\u001b[0m \u001b[43ma\u001b[49m\u001b[43m(\u001b[49m\u001b[43mb\u001b[49m\u001b[43m)\u001b[49m\n",
      "File \u001b[0;32m~/code/MultiModalInstructERC/.conda/lib/python3.11/site-packages/torch/nn/modules/module.py:1532\u001b[0m, in \u001b[0;36mModule._wrapped_call_impl\u001b[0;34m(self, *args, **kwargs)\u001b[0m\n\u001b[1;32m   1530\u001b[0m     \u001b[38;5;28;01mreturn\u001b[39;00m \u001b[38;5;28mself\u001b[39m\u001b[38;5;241m.\u001b[39m_compiled_call_impl(\u001b[38;5;241m*\u001b[39margs, \u001b[38;5;241m*\u001b[39m\u001b[38;5;241m*\u001b[39mkwargs)  \u001b[38;5;66;03m# type: ignore[misc]\u001b[39;00m\n\u001b[1;32m   1531\u001b[0m \u001b[38;5;28;01melse\u001b[39;00m:\n\u001b[0;32m-> 1532\u001b[0m     \u001b[38;5;28;01mreturn\u001b[39;00m \u001b[38;5;28;43mself\u001b[39;49m\u001b[38;5;241;43m.\u001b[39;49m\u001b[43m_call_impl\u001b[49m\u001b[43m(\u001b[49m\u001b[38;5;241;43m*\u001b[39;49m\u001b[43margs\u001b[49m\u001b[43m,\u001b[49m\u001b[43m \u001b[49m\u001b[38;5;241;43m*\u001b[39;49m\u001b[38;5;241;43m*\u001b[39;49m\u001b[43mkwargs\u001b[49m\u001b[43m)\u001b[49m\n",
      "File \u001b[0;32m~/code/MultiModalInstructERC/.conda/lib/python3.11/site-packages/torch/nn/modules/module.py:1541\u001b[0m, in \u001b[0;36mModule._call_impl\u001b[0;34m(self, *args, **kwargs)\u001b[0m\n\u001b[1;32m   1536\u001b[0m \u001b[38;5;66;03m# If we don't have any hooks, we want to skip the rest of the logic in\u001b[39;00m\n\u001b[1;32m   1537\u001b[0m \u001b[38;5;66;03m# this function, and just call forward.\u001b[39;00m\n\u001b[1;32m   1538\u001b[0m \u001b[38;5;28;01mif\u001b[39;00m \u001b[38;5;129;01mnot\u001b[39;00m (\u001b[38;5;28mself\u001b[39m\u001b[38;5;241m.\u001b[39m_backward_hooks \u001b[38;5;129;01mor\u001b[39;00m \u001b[38;5;28mself\u001b[39m\u001b[38;5;241m.\u001b[39m_backward_pre_hooks \u001b[38;5;129;01mor\u001b[39;00m \u001b[38;5;28mself\u001b[39m\u001b[38;5;241m.\u001b[39m_forward_hooks \u001b[38;5;129;01mor\u001b[39;00m \u001b[38;5;28mself\u001b[39m\u001b[38;5;241m.\u001b[39m_forward_pre_hooks\n\u001b[1;32m   1539\u001b[0m         \u001b[38;5;129;01mor\u001b[39;00m _global_backward_pre_hooks \u001b[38;5;129;01mor\u001b[39;00m _global_backward_hooks\n\u001b[1;32m   1540\u001b[0m         \u001b[38;5;129;01mor\u001b[39;00m _global_forward_hooks \u001b[38;5;129;01mor\u001b[39;00m _global_forward_pre_hooks):\n\u001b[0;32m-> 1541\u001b[0m     \u001b[38;5;28;01mreturn\u001b[39;00m \u001b[43mforward_call\u001b[49m\u001b[43m(\u001b[49m\u001b[38;5;241;43m*\u001b[39;49m\u001b[43margs\u001b[49m\u001b[43m,\u001b[49m\u001b[43m \u001b[49m\u001b[38;5;241;43m*\u001b[39;49m\u001b[38;5;241;43m*\u001b[39;49m\u001b[43mkwargs\u001b[49m\u001b[43m)\u001b[49m\n\u001b[1;32m   1543\u001b[0m \u001b[38;5;28;01mtry\u001b[39;00m:\n\u001b[1;32m   1544\u001b[0m     result \u001b[38;5;241m=\u001b[39m \u001b[38;5;28;01mNone\u001b[39;00m\n",
      "File \u001b[0;32m~/code/MultiModalInstructERC/.conda/lib/python3.11/site-packages/torch/nn/modules/linear.py:116\u001b[0m, in \u001b[0;36mLinear.forward\u001b[0;34m(self, input)\u001b[0m\n\u001b[1;32m    115\u001b[0m \u001b[38;5;28;01mdef\u001b[39;00m \u001b[38;5;21mforward\u001b[39m(\u001b[38;5;28mself\u001b[39m, \u001b[38;5;28minput\u001b[39m: Tensor) \u001b[38;5;241m-\u001b[39m\u001b[38;5;241m>\u001b[39m Tensor:\n\u001b[0;32m--> 116\u001b[0m     \u001b[38;5;28;01mreturn\u001b[39;00m \u001b[43mF\u001b[49m\u001b[38;5;241;43m.\u001b[39;49m\u001b[43mlinear\u001b[49m\u001b[43m(\u001b[49m\u001b[38;5;28;43minput\u001b[39;49m\u001b[43m,\u001b[49m\u001b[43m \u001b[49m\u001b[38;5;28;43mself\u001b[39;49m\u001b[38;5;241;43m.\u001b[39;49m\u001b[43mweight\u001b[49m\u001b[43m,\u001b[49m\u001b[43m \u001b[49m\u001b[38;5;28;43mself\u001b[39;49m\u001b[38;5;241;43m.\u001b[39;49m\u001b[43mbias\u001b[49m\u001b[43m)\u001b[49m\n",
      "\u001b[0;31mRuntimeError\u001b[0m: mat1 and mat2 shapes cannot be multiplied (3x10 and 1x1)"
     ]
    }
   ],
   "source": [
    "a = torch.nn.Linear(1,1, bias=False)\n",
    "a.weight = torch.nn.Parameter(torch.tensor([[1.0]]))\n",
    "next(a.parameters())\n",
    "\n",
    "b = torch.randn(3, 10)\n",
    "\n",
    "a(b)"
   ]
  },
  {
   "cell_type": "code",
   "execution_count": 12,
   "metadata": {},
   "outputs": [],
   "source": [
    "import deepspeed\n",
    "\n",
    "a = torch.nn.Parameter(torch.tensor(1.0))\n",
    "optim = deepspeed.ops.\n"
   ]
  }
 ],
 "metadata": {
  "kernelspec": {
   "display_name": "Python 3",
   "language": "python",
   "name": "python3"
  },
  "language_info": {
   "codemirror_mode": {
    "name": "ipython",
    "version": 3
   },
   "file_extension": ".py",
   "mimetype": "text/x-python",
   "name": "python",
   "nbconvert_exporter": "python",
   "pygments_lexer": "ipython3",
   "version": "3.11.9"
  }
 },
 "nbformat": 4,
 "nbformat_minor": 2
}
